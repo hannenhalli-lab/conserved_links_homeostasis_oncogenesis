{
 "cells": [
  {
   "cell_type": "code",
   "execution_count": 1,
   "id": "669449ae",
   "metadata": {},
   "outputs": [],
   "source": [
    "import sys\n",
    "import networkx as nx\n",
    "import pandas as pd\n",
    "import numpy as np\n",
    "import matplotlib.pyplot as plt\n",
    "import math\n",
    "import random\n",
    "import statistics as stats\n",
    "from scipy.stats import wilcoxon\n",
    "import openpyxl\n",
    "from pathlib import Path\n",
    "\n",
    "wb_obj = openpyxl.load_workbook('hPPIN_network.xlsx') \n",
    "sheet = wb_obj.active\n",
    "\n",
    "hPPIN = nx.Graph()\n",
    "for row in sheet.iter_rows(2, sheet.max_row):\n",
    "    node1 = row[0].value\n",
    "    node2 = row[1].value\n",
    "    hPPIN.add_edge(node1, node2, weight=1)\n",
    "len(list(hPPIN.nodes))\n",
    "\n",
    "path_lengths = dict(nx.all_pairs_shortest_path_length(hPPIN))\n",
    "\n",
    "with open(\"hPPIN_sp_lengths_total.txt\", 'w') as f: \n",
    "    for key, value in path_lengths.items(): \n",
    "        f.write('%s\\t%s\\n' % (key, value))"
   ]
  },
  {
   "cell_type": "code",
   "execution_count": 7,
   "id": "d7206965",
   "metadata": {},
   "outputs": [
    {
     "data": {
      "text/plain": [
       "19344"
      ]
     },
     "execution_count": 7,
     "metadata": {},
     "output_type": "execute_result"
    }
   ],
   "source": [
    "G = nx.Graph()\n",
    "#  give filename\n",
    "file2 = \"STRING_db_list.txt\"\n",
    "\n",
    "# create dictionary\n",
    "string_db = {}\n",
    "with open(file2) as IN:\n",
    "    for line in IN:\n",
    "        ensembl = line.rstrip().split(\"\\t\")[0]\n",
    "        gene_name = line.rstrip().split(\"\\t\")[1]\n",
    "\n",
    "        string_db[ensembl] = gene_name\n",
    "\n",
    "#  give filename\n",
    "file3 = \"string_network_scores.txt\"\n",
    "\n",
    "with open(file3) as IN:\n",
    "    for line in IN:\n",
    "        node1 = line.rstrip().split(\"\\t\")[0]\n",
    "        node2 = line.rstrip().split(\"\\t\")[1]\n",
    "        score = int(line.rstrip().split(\"\\t\")[2])\n",
    "\n",
    "        node1_translated = string_db[node1]\n",
    "        node2_translated = string_db[node2]\n",
    "\n",
    "        G.add_edge(node1_translated, node2_translated, weight=score)\n",
    "len(list(G.nodes))\n",
    "\n",
    "# print()\n",
    "\n",
    "# # identify the top 2% nodes with the highest degree\n",
    "# graph_degrees = pd.DataFrame(G2.degree())\n",
    "# PERCENT_TO_EXZCLUDE = float(sys.argv[2])\n",
    "# exclusion_df = graph_degrees.sort_values(1, ascending=False)[:(int(len(graph_degrees)*PERCENT_TO_EXZCLUDE))]\n",
    "# exclusion_list = list(exclusion_df[0])\n",
    "\n",
    "# #  remove  those nodes from the graph\n",
    "# G2.remove_nodes_from(exclusion_list)\n",
    "# #len(list(G2.nodes))"
   ]
  },
  {
   "cell_type": "code",
   "execution_count": 9,
   "id": "26af075b",
   "metadata": {},
   "outputs": [
    {
     "data": {
      "text/plain": [
       "['CALM2',\n",
       " 'ARHGEF9',\n",
       " 'ERN1',\n",
       " 'CDKN2A',\n",
       " 'P4HB',\n",
       " 'STX10',\n",
       " 'GNB4',\n",
       " 'KIF5C',\n",
       " 'GART']"
      ]
     },
     "execution_count": 9,
     "metadata": {},
     "output_type": "execute_result"
    }
   ],
   "source": [
    "list(G.nodes)[1:10]"
   ]
  },
  {
   "cell_type": "code",
   "execution_count": null,
   "id": "0e6a2e32",
   "metadata": {},
   "outputs": [],
   "source": []
  }
 ],
 "metadata": {
  "kernelspec": {
   "display_name": "python/3.8",
   "language": "python",
   "name": "py3.8"
  },
  "language_info": {
   "codemirror_mode": {
    "name": "ipython",
    "version": 3
   },
   "file_extension": ".py",
   "mimetype": "text/x-python",
   "name": "python",
   "nbconvert_exporter": "python",
   "pygments_lexer": "ipython3",
   "version": "3.8.12"
  },
  "toc": {
   "base_numbering": 1,
   "nav_menu": {},
   "number_sections": true,
   "sideBar": true,
   "skip_h1_title": false,
   "title_cell": "Table of Contents",
   "title_sidebar": "Contents",
   "toc_cell": false,
   "toc_position": {},
   "toc_section_display": true,
   "toc_window_display": false
  }
 },
 "nbformat": 4,
 "nbformat_minor": 5
}
