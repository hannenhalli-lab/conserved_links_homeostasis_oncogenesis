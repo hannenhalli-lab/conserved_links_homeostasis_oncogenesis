{
 "cells": [
  {
   "cell_type": "code",
   "execution_count": 17,
   "id": "b783e776",
   "metadata": {},
   "outputs": [
    {
     "name": "stdout",
     "output_type": "stream",
     "text": [
      "[1] \"2020Rule\"\n",
      "[1] \"benchmark\"\n",
      "[1] \"CGCpointMut\"\n",
      "[1] \"CGC\"\n",
      "[1] \"CTAT\"\n",
      "[1] \"HCD\"\n",
      "[1] \"MouseMut\"\n",
      "[1] \"oncoGene\"\n"
     ]
    },
    {
     "data": {
      "text/plain": [
       "            Length Class  Mode     \n",
       "2020Rule    124    -none- character\n",
       "benchmark   233    -none- character\n",
       "CGCpointMut 118    -none- character\n",
       "CGC         567    -none- character\n",
       "CTAT        297    -none- character\n",
       "HCD         288    -none- character\n",
       "MouseMut    797    -none- character\n",
       "oncoGene    688    -none- character"
      ]
     },
     "metadata": {},
     "output_type": "display_data"
    }
   ],
   "source": [
    "library(readxl)\n",
    "benchmarks <- data.frame(read_excel(\"benchmark-datasets.xlsx\"))\n",
    "benchmark_list <- list()\n",
    "for(i in 1:length(benchmarks)) {\n",
    "    list21<- benchmarks[2:nrow(benchmarks),i]\n",
    "    print(benchmarks[1,i])\n",
    "    benchmark_list[[benchmarks[1,i]]] <- list21[!is.na(list21)]\n",
    "}"
   ]
  },
  {
   "cell_type": "code",
   "execution_count": null,
   "id": "3a47df5f",
   "metadata": {},
   "outputs": [],
   "source": []
  }
 ],
 "metadata": {
  "kernelspec": {
   "display_name": "R/4.1",
   "language": "R",
   "name": "ir41"
  },
  "language_info": {
   "codemirror_mode": "r",
   "file_extension": ".r",
   "mimetype": "text/x-r-source",
   "name": "R",
   "pygments_lexer": "r",
   "version": "4.1.3"
  },
  "toc": {
   "base_numbering": 1,
   "nav_menu": {},
   "number_sections": true,
   "sideBar": true,
   "skip_h1_title": false,
   "title_cell": "Table of Contents",
   "title_sidebar": "Contents",
   "toc_cell": false,
   "toc_position": {},
   "toc_section_display": true,
   "toc_window_display": false
  }
 },
 "nbformat": 4,
 "nbformat_minor": 5
}
