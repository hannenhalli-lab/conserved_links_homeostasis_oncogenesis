{
 "cells": [
  {
   "cell_type": "code",
   "execution_count": 2,
   "id": "0c897303",
   "metadata": {},
   "outputs": [],
   "source": [
    "library(\"data.table\")\n",
    "\n",
    "genome_wound_paths_files <- list.files(\"./genome_analysis\",\"genome_wound_paths[0-9]*.out\")\n",
    "\n",
    "genome_node <- character()\n",
    "wound_node <- character()\n",
    "sp_length <- numeric()\n",
    "for (i in 1:length(genome_wound_paths_files)) {\n",
    "    current_file <- fread(paste(\"./genome_analysis/\",genome_wound_paths_files[i],sep=\"\"), header=F)\n",
    "    node1 <- gsub(\"-.*\", \"\", current_file$V1)\n",
    "    node2 <- gsub(\"^.*-\", \"\", current_file$V1)\n",
    "    \n",
    "    genome_node <- append(genome_node, node1,length(genome_node))\n",
    "    wound_node <- append(wound_node, node2,length(wound_node))\n",
    "    sp_length <- append(sp_length,current_file$V2,length(sp_length))\n",
    "}\n",
    "\n",
    "genome_wound_paths <- data.frame(genome_node, wound_node, sp_length)\n",
    "\n",
    "df <- genome_wound_paths\n",
    "genome_genes <- unique(df$genome_node)\n",
    "\n",
    "frac_0 <- numeric()\n",
    "frac_1 <- numeric()\n",
    "frac_less_2 <- numeric()\n",
    "frac_less_3 <- numeric()\n",
    "frac_less_4 <- numeric()\n",
    "\n",
    "for (i in 1:length(genome_genes)) {\n",
    "    current_gene <- df[df$genome_node == genome_genes[i],]\n",
    "    frac_0 <- append(frac_0, nrow(current_gene[current_gene$sp_length == 0,])/nrow(current_gene),length(frac_0))\n",
    "    frac_1 <- append(frac_1, nrow(current_gene[current_gene$sp_length == 1,])/nrow(current_gene),length(frac_1))\n",
    "    frac_less_2 <- append(frac_less_2, nrow(current_gene[current_gene$sp_length < 2,])/nrow(current_gene),length(frac_less_2))\n",
    "    frac_less_3 <- append(frac_less_3, nrow(current_gene[current_gene$sp_length < 3,])/nrow(current_gene),length(frac_less_3))\n",
    "    frac_less_4 <- append(frac_less_4, nrow(current_gene[current_gene$sp_length < 4,])/nrow(current_gene),length(frac_less_4))\n",
    "    \n",
    "}\n",
    "\n",
    "\n",
    "genome_wound_fractions <- data.frame(\"gene_wound\" = genome_genes,\n",
    "                                  \"wound_Fraction_sp_0\" = frac_0,\n",
    "                                  \"wound_Fraction_sp_1\" = frac_1,\n",
    "                                  \"wound_Fraction_sp_less2\" = frac_less_2,\n",
    "                                  \"wound_Fraction_sp_less3\" = frac_less_3,\n",
    "                                  \"wound_Fraction_sp_less4\" = frac_less_4)"
   ]
  },
  {
   "cell_type": "code",
   "execution_count": 4,
   "id": "b0cbc391",
   "metadata": {},
   "outputs": [],
   "source": [
    "saveRDS(genome_wound_fractions,\"wound_fractions.RDS\")"
   ]
  },
  {
   "cell_type": "code",
   "execution_count": null,
   "id": "c5a2d276",
   "metadata": {},
   "outputs": [],
   "source": []
  }
 ],
 "metadata": {
  "kernelspec": {
   "display_name": "R/4.0",
   "language": "R",
   "name": "ir40"
  },
  "language_info": {
   "codemirror_mode": "r",
   "file_extension": ".r",
   "mimetype": "text/x-r-source",
   "name": "R",
   "pygments_lexer": "r",
   "version": "4.0.5"
  },
  "toc": {
   "base_numbering": 1,
   "nav_menu": {},
   "number_sections": true,
   "sideBar": true,
   "skip_h1_title": false,
   "title_cell": "Table of Contents",
   "title_sidebar": "Contents",
   "toc_cell": false,
   "toc_position": {},
   "toc_section_display": true,
   "toc_window_display": false
  }
 },
 "nbformat": 4,
 "nbformat_minor": 5
}
