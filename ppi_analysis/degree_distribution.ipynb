{
 "cells": [
  {
   "cell_type": "code",
   "execution_count": 1,
   "id": "7532656e",
   "metadata": {},
   "outputs": [],
   "source": [
    "import networkx as nx\n",
    "import pandas as pd\n",
    "import numpy as np\n",
    "import random\n",
    "import openpyxl\n",
    "import math\n",
    "import statistics as stats\n",
    "import shlex\n",
    "import time\n",
    "import os\n",
    "\n",
    "import matplotlib.pyplot as plt"
   ]
  },
  {
   "cell_type": "code",
   "execution_count": 2,
   "id": "2d9562a9",
   "metadata": {},
   "outputs": [
    {
     "data": {
      "text/plain": [
       "17061"
      ]
     },
     "execution_count": 2,
     "metadata": {},
     "output_type": "execute_result"
    }
   ],
   "source": [
    "wb_obj = openpyxl.load_workbook('hPPIN_network.xlsx') \n",
    "sheet = wb_obj.active\n",
    "\n",
    "hPPIN = nx.Graph()\n",
    "for row in sheet.iter_rows(2, sheet.max_row):\n",
    "    node1 = row[0].value\n",
    "    node2 = row[1].value\n",
    "    hPPIN.add_edge(node1, node2, weight=1)\n",
    "len(list(hPPIN.nodes))"
   ]
  },
  {
   "cell_type": "code",
   "execution_count": 3,
   "id": "1571bc69",
   "metadata": {},
   "outputs": [
    {
     "name": "stdout",
     "output_type": "stream",
     "text": [
      "Graph with 17061 nodes and 188495 edges\n"
     ]
    },
    {
     "name": "stderr",
     "output_type": "stream",
     "text": [
      "/tmp/ipykernel_1378/2831221079.py:1: DeprecationWarning: info is deprecated and will be removed in version 3.0.\n",
      "\n",
      "  print(nx.info(hPPIN))\n"
     ]
    }
   ],
   "source": [
    "print(nx.info(hPPIN))"
   ]
  },
  {
   "cell_type": "code",
   "execution_count": 5,
   "id": "6694ba77",
   "metadata": {},
   "outputs": [
    {
     "data": {
      "text/plain": [
       "0.0012952282867770587"
      ]
     },
     "execution_count": 5,
     "metadata": {},
     "output_type": "execute_result"
    }
   ],
   "source": [
    "(2*len(hPPIN.edges))/(len(hPPIN.nodes)*(len(hPPIN.nodes) - 1))"
   ]
  },
  {
   "cell_type": "code",
   "execution_count": 3,
   "id": "e14ed0e8",
   "metadata": {},
   "outputs": [],
   "source": [
    "textfile = open(\"hPPIN_degree_list.txt\", \"w\")\n",
    "\n",
    "for (node, val) in hPPIN.degree():\n",
    "\n",
    "    textfile.write(node + \"\\t\" + str(val) + \"\\n\")\n",
    "\n",
    "textfile.close()"
   ]
  },
  {
   "cell_type": "code",
   "execution_count": 4,
   "id": "6e6821fa",
   "metadata": {},
   "outputs": [],
   "source": [
    "G = nx.Graph()\n",
    "#  give filename\n",
    "file2 = \"STRING_db_list.txt\"\n",
    "\n",
    "# create dictionary\n",
    "string_db = {}\n",
    "with open(file2) as IN:\n",
    "    for line in IN:\n",
    "        ensembl = line.rstrip().split(\"\\t\")[0]\n",
    "        gene_name = line.rstrip().split(\"\\t\")[1]\n",
    "\n",
    "        string_db[ensembl] = gene_name\n",
    "\n",
    "        \n",
    "#  give filename\n",
    "file3 = \"string_network_no_scores.txt\"\n",
    "\n",
    "with open(file3) as IN:\n",
    "    for line in IN:\n",
    "        node1 = line.rstrip().split(\"\\t\")[0]\n",
    "        node2 = line.rstrip().split(\"\\t\")[1]\n",
    "        score = 1\n",
    "\n",
    "        node1_translated = string_db[node1]\n",
    "        node2_translated = string_db[node2]\n",
    "\n",
    "        G.add_edge(node1_translated, node2_translated, weight=score)"
   ]
  },
  {
   "cell_type": "code",
   "execution_count": 5,
   "id": "4e292e32",
   "metadata": {},
   "outputs": [],
   "source": [
    "textfile = open(\"STRING_NS_degree_list.txt\", \"w\")\n",
    "\n",
    "for (node, val) in G.degree():\n",
    "\n",
    "    textfile.write(node + \"\\t\" + str(val) + \"\\n\")\n",
    "\n",
    "textfile.close()"
   ]
  },
  {
   "cell_type": "code",
   "execution_count": 6,
   "id": "885f596b",
   "metadata": {},
   "outputs": [],
   "source": [
    "G = nx.Graph()\n",
    "#  give filename\n",
    "file2 = \"STRING_db_list.txt\"\n",
    "\n",
    "# create dictionary\n",
    "string_db = {}\n",
    "with open(file2) as IN:\n",
    "    for line in IN:\n",
    "        ensembl = line.rstrip().split(\"\\t\")[0]\n",
    "        gene_name = line.rstrip().split(\"\\t\")[1]\n",
    "\n",
    "        string_db[ensembl] = gene_name\n",
    "        \n",
    "#  give filename\n",
    "file3 = \"string_network_scores.txt\"\n",
    "\n",
    "with open(file3) as IN:\n",
    "    for line in IN:\n",
    "        node1 = line.rstrip().split(\"\\t\")[0]\n",
    "        node2 = line.rstrip().split(\"\\t\")[1]\n",
    "        score = int(line.rstrip().split(\"\\t\")[2])\n",
    "\n",
    "        node1_translated = string_db[node1]\n",
    "        node2_translated = string_db[node2]\n",
    "\n",
    "        G.add_edge(node1_translated, node2_translated, weight=score)\n",
    "\n",
    "        \n",
    "textfile = open(\"STRING_degree_list.txt\", \"w\")\n",
    "\n",
    "for (node, val) in G.degree():\n",
    "\n",
    "    textfile.write(node + \"\\t\" + str(val) + \"\\n\")\n",
    "\n",
    "textfile.close()"
   ]
  },
  {
   "cell_type": "code",
   "execution_count": 5,
   "id": "7ce3b3dd",
   "metadata": {},
   "outputs": [],
   "source": [
    "def list_contains(List1, List2): \n",
    "    check = []\n",
    "  \n",
    "    # add elements in list 1 that are in list2\n",
    "    for m in List1: \n",
    "        if (m in List2) & (not (m in check)): \n",
    "            check.append(m)\n",
    "            \n",
    "    return check"
   ]
  },
  {
   "cell_type": "code",
   "execution_count": 83,
   "id": "4982c633",
   "metadata": {},
   "outputs": [],
   "source": [
    "def get_matched_controls(G, genes, sample):\n",
    "    # only genes in the PPI\n",
    "    file_genes = pd.read_csv(genes, header = None, names = ['genes'])\n",
    "    node_list = list(G.nodes)\n",
    "    gene_list = list_contains(file_genes['genes'], node_list)\n",
    "    \n",
    "    # get degrees and repeatsfor each\n",
    "    gene_list_degrees = [val for (node, val) in hPPIN.degree(gene_list)]\n",
    "    degree_repeats = dict((i, gene_list_degrees.count(i)) for i in gene_list_degrees)\n",
    "\n",
    "    # extract  n fold nodes with the same degree\n",
    "    matched_controls = []\n",
    "    for (degree, repeat) in degree_repeats.items():\n",
    "        controls = [node for (node, val) in hPPIN.degree() if val == degree]\n",
    "        controls = [x for x in controls if x not in gene_list]\n",
    "        if len(controls) > (sample*repeat):\n",
    "            matched_controls.extend(random.sample(controls, sample*repeat))\n",
    "        else:\n",
    "            matched_controls.extend(controls)\n",
    "    \n",
    "    print(\"Total Genes: \" + str(len(file_genes)))\n",
    "    print(\"Total Genes in PPI: \" + str(len(gene_list)))\n",
    "    print(\"Expected Matched Controls: \" + str(sample*len(gene_list)))\n",
    "    print(\"Actual Matched Controls: \" + str(len(matched_controls)))\n",
    "    print(\"\")\n",
    "    print(\"Mean degree in set: \" + str(stats.mean([val for (node, val) in hPPIN.degree(gene_list)])))\n",
    "    print(\"Mean degree in matched set: \" + str(stats.mean([val for (node, val) in hPPIN.degree(matched_controls)])))\n",
    "    print(\"Mean degree in PPI network: \" + str(stats.mean([val for (node, val) in hPPIN.degree()])))\n",
    "    print(\"\")\n",
    "    \n",
    "    gene_list_degree = [val for (node, val) in hPPIN.degree(gene_list)]\n",
    "    matched_list_degree = [val for (node, val) in hPPIN.degree(matched_controls)]\n",
    "    return([matched_controls,gene_list,\n",
    "            gene_list_degree,\n",
    "            matched_list_degree,\n",
    "            stats.mean([val for (node, val) in hPPIN.degree(gene_list)]),\n",
    "            stats.mean([val for (node, val) in hPPIN.degree(matched_controls)])])"
   ]
  },
  {
   "cell_type": "code",
   "execution_count": 97,
   "id": "8bf82cc5",
   "metadata": {},
   "outputs": [
    {
     "name": "stdout",
     "output_type": "stream",
     "text": [
      "Total Genes: 723\n",
      "Total Genes in PPI: 679\n",
      "Expected Matched Controls: 679\n",
      "Actual Matched Controls: 639\n",
      "\n",
      "Mean degree in set: 73.6082474226804\n",
      "Mean degree in matched set: 51.75430359937402\n",
      "Mean degree in PPI network: 22.096594572416624\n",
      "\n"
     ]
    }
   ],
   "source": [
    "cancer_driver_matched = get_matched_controls(hPPIN, \"cosmic_hallmarks.txt\",1)"
   ]
  },
  {
   "cell_type": "code",
   "execution_count": 99,
   "id": "192a3e0f",
   "metadata": {},
   "outputs": [
    {
     "data": {
      "text/plain": [
       "73.6082474226804"
      ]
     },
     "execution_count": 99,
     "metadata": {},
     "output_type": "execute_result"
    }
   ],
   "source": [
    "stats.mean(cancer_driver_matched[2])"
   ]
  },
  {
   "cell_type": "code",
   "execution_count": 81,
   "id": "209d1bea",
   "metadata": {},
   "outputs": [],
   "source": [
    "out_list = cancer_driver_matched[0]\n",
    "\n",
    "textfile = open(\"cosmic_driver_matched.txt\", \"w\")\n",
    "\n",
    "for element in out_list:\n",
    "\n",
    "    textfile.write(element + \"\\n\")\n",
    "\n",
    "textfile.close()"
   ]
  },
  {
   "cell_type": "code",
   "execution_count": 54,
   "id": "94e3fa7e",
   "metadata": {},
   "outputs": [
    {
     "data": {
      "text/plain": [
       "<AxesSubplot:xlabel='Group', ylabel='value'>"
      ]
     },
     "execution_count": 54,
     "metadata": {},
     "output_type": "execute_result"
    },
    {
     "data": {
      "image/png": "[encoded data removed]",
      "text/plain": [
       "<Figure size 432x288 with 1 Axes>"
      ]
     },
     "metadata": {
      "needs_background": "light"
     },
     "output_type": "display_data"
    }
   ],
   "source": [
    "df = pd.DataFrame({'Group': group, 'Degrees': degrees})\n",
    "\n",
    "import matplotlib.pyplot as plt\n",
    "import seaborn as sns\n",
    "\n",
    "dd=pd.melt(df,id_vars=['Group'],value_vars=['Degrees'],var_name='Degrees')\n",
    "sns.boxplot(x='Group',y='value',data=dd,hue='Group')"
   ]
  },
  {
   "cell_type": "code",
   "execution_count": 49,
   "id": "0377312b",
   "metadata": {},
   "outputs": [],
   "source": [
    "group = ['cancer_driver_degrees'] * len(cancer_driver_matched[2]) + ['matched_control_degrees'] * len(cancer_driver_matched[3])\n",
    "degrees = cancer_driver_matched[2] + cancer_driver_matched[3]"
   ]
  },
  {
   "cell_type": "code",
   "execution_count": 103,
   "id": "c8c0044b",
   "metadata": {},
   "outputs": [
    {
     "name": "stdout",
     "output_type": "stream",
     "text": [
      "#################################################\n",
      "sscrofa_wound_down.txt\n",
      "Total Genes: 500\n",
      "Total Genes in PPI: 464\n",
      "Expected Matched Controls: 464\n",
      "Actual Matched Controls: 454\n",
      "\n",
      "Mean degree in set: 44.73922413793103\n",
      "Mean degree in matched set: 39.279735682819386\n",
      "Mean degree in PPI network: 22.096594572416624\n",
      "\n",
      "44.73922413793103\n",
      "#################################################\n",
      "mmusculus_stress_down.txt\n",
      "Total Genes: 500\n",
      "Total Genes in PPI: 408\n",
      "Expected Matched Controls: 408\n",
      "Actual Matched Controls: 406\n",
      "\n",
      "Mean degree in set: 22.985294117647058\n",
      "Mean degree in matched set: 21.89408866995074\n",
      "Mean degree in PPI network: 22.096594572416624\n",
      "\n",
      "22.985294117647058\n",
      "#################################################\n",
      "hsapiens_regen_up.txt\n",
      "Total Genes: 426\n",
      "Total Genes in PPI: 370\n",
      "Expected Matched Controls: 370\n",
      "Actual Matched Controls: 366\n",
      "\n",
      "Mean degree in set: 27.232432432432432\n",
      "Mean degree in matched set: 24.191256830601095\n",
      "Mean degree in PPI network: 22.096594572416624\n",
      "\n",
      "27.232432432432432\n",
      "#################################################\n",
      "celegans_stress_up.txt\n",
      "Total Genes: 500\n",
      "Total Genes in PPI: 361\n",
      "Expected Matched Controls: 361\n",
      "Actual Matched Controls: 356\n",
      "\n",
      "Mean degree in set: 34.908587257617725\n",
      "Mean degree in matched set: 31.230337078651687\n",
      "Mean degree in PPI network: 22.096594572416624\n",
      "\n",
      "34.908587257617725\n",
      "#################################################\n",
      "amexicanum_regen_down.txt\n",
      "Total Genes: 500\n",
      "Total Genes in PPI: 445\n",
      "Expected Matched Controls: 445\n",
      "Actual Matched Controls: 443\n",
      "\n",
      "Mean degree in set: 26.986516853932585\n",
      "Mean degree in matched set: 25.051918735891647\n",
      "Mean degree in PPI network: 22.096594572416624\n",
      "\n",
      "26.986516853932585\n",
      "#################################################\n",
      "cosmic_hallmarks.txt\n",
      "Total Genes: 723\n",
      "Total Genes in PPI: 679\n",
      "Expected Matched Controls: 679\n",
      "Actual Matched Controls: 639\n",
      "\n",
      "Mean degree in set: 73.6082474226804\n",
      "Mean degree in matched set: 51.75430359937402\n",
      "Mean degree in PPI network: 22.096594572416624\n",
      "\n",
      "73.6082474226804\n",
      "#################################################\n",
      "dmelanogaster_wound_down.txt\n",
      "Total Genes: 301\n",
      "Total Genes in PPI: 245\n",
      "Expected Matched Controls: 245\n",
      "Actual Matched Controls: 239\n",
      "\n",
      "Mean degree in set: 41.29795918367347\n",
      "Mean degree in matched set: 33.51464435146443\n",
      "Mean degree in PPI network: 22.096594572416624\n",
      "\n",
      "41.29795918367347\n",
      "#################################################\n",
      "dmelanogaster_wound_up.txt\n",
      "Total Genes: 5766\n",
      "Total Genes in PPI: 4431\n",
      "Expected Matched Controls: 4431\n",
      "Actual Matched Controls: 4347\n",
      "\n",
      "Mean degree in set: 27.26878808395396\n",
      "Mean degree in matched set: 22.91902461467679\n",
      "Mean degree in PPI network: 22.096594572416624\n",
      "\n",
      "27.26878808395396\n",
      "#################################################\n",
      "rnorvegicus_wound_down.txt\n",
      "Total Genes: 500\n",
      "Total Genes in PPI: 431\n",
      "Expected Matched Controls: 431\n",
      "Actual Matched Controls: 425\n",
      "\n",
      "Mean degree in set: 43.05104408352668\n",
      "Mean degree in matched set: 40.004705882352944\n",
      "Mean degree in PPI network: 22.096594572416624\n",
      "\n",
      "43.05104408352668\n",
      "#################################################\n",
      "drerio_regen_down.txt\n",
      "Total Genes: 500\n",
      "Total Genes in PPI: 381\n",
      "Expected Matched Controls: 381\n",
      "Actual Matched Controls: 377\n",
      "\n",
      "Mean degree in set: 29.086614173228348\n",
      "Mean degree in matched set: 25.46684350132626\n",
      "Mean degree in PPI network: 22.096594572416624\n",
      "\n",
      "29.086614173228348\n",
      "#################################################\n",
      "mmusculus_stress_up.txt\n",
      "Total Genes: 500\n",
      "Total Genes in PPI: 433\n",
      "Expected Matched Controls: 433\n",
      "Actual Matched Controls: 424\n",
      "\n",
      "Mean degree in set: 41.27944572748268\n",
      "Mean degree in matched set: 32.54481132075472\n",
      "Mean degree in PPI network: 22.096594572416624\n",
      "\n",
      "41.27944572748268\n",
      "#################################################\n",
      "hsapiens_regen_down.txt\n",
      "Total Genes: 436\n",
      "Total Genes in PPI: 375\n",
      "Expected Matched Controls: 375\n",
      "Actual Matched Controls: 375\n",
      "\n",
      "Mean degree in set: 26.144\n",
      "Mean degree in matched set: 26.144\n",
      "Mean degree in PPI network: 22.096594572416624\n",
      "\n",
      "26.144\n",
      "#################################################\n",
      "hsapiens_wound_up.txt\n",
      "Total Genes: 199\n",
      "Total Genes in PPI: 155\n",
      "Expected Matched Controls: 155\n",
      "Actual Matched Controls: 153\n",
      "\n",
      "Mean degree in set: 28.651612903225807\n",
      "Mean degree in matched set: 24.986928104575163\n",
      "Mean degree in PPI network: 22.096594572416624\n",
      "\n",
      "28.651612903225807\n",
      "#################################################\n",
      "clupisFamiliaris_wound_down.txt\n",
      "Total Genes: 198\n",
      "Total Genes in PPI: 131\n",
      "Expected Matched Controls: 131\n",
      "Actual Matched Controls: 130\n",
      "\n",
      "Mean degree in set: 35.267175572519086\n",
      "Mean degree in matched set: 32.176923076923075\n",
      "Mean degree in PPI network: 22.096594572416624\n",
      "\n",
      "35.267175572519086\n",
      "#################################################\n",
      "clupisFamiliaris_wound_up.txt\n",
      "Total Genes: 65\n",
      "Total Genes in PPI: 50\n",
      "Expected Matched Controls: 50\n",
      "Actual Matched Controls: 50\n",
      "\n",
      "Mean degree in set: 15.7\n",
      "Mean degree in matched set: 15.7\n",
      "Mean degree in PPI network: 22.096594572416624\n",
      "\n",
      "15.7\n",
      "#################################################\n",
      "rnorvegicus_wound_up.txt\n",
      "Total Genes: 500\n",
      "Total Genes in PPI: 339\n",
      "Expected Matched Controls: 339\n",
      "Actual Matched Controls: 336\n",
      "\n",
      "Mean degree in set: 23.86725663716814\n",
      "Mean degree in matched set: 21.360119047619047\n",
      "Mean degree in PPI network: 22.096594572416624\n",
      "\n",
      "23.86725663716814\n",
      "#################################################\n",
      "hsapiens_wound_down.txt\n",
      "Total Genes: 237\n",
      "Total Genes in PPI: 218\n",
      "Expected Matched Controls: 218\n",
      "Actual Matched Controls: 217\n",
      "\n",
      "Mean degree in set: 28.56422018348624\n",
      "Mean degree in matched set: 27.682027649769584\n",
      "Mean degree in PPI network: 22.096594572416624\n",
      "\n",
      "28.56422018348624\n",
      "#################################################\n",
      "dmelanogaster_stress_down.txt\n",
      "Total Genes: 500\n",
      "Total Genes in PPI: 388\n",
      "Expected Matched Controls: 388\n",
      "Actual Matched Controls: 385\n",
      "\n",
      "Mean degree in set: 26.77061855670103\n",
      "Mean degree in matched set: 24.314285714285713\n",
      "Mean degree in PPI network: 22.096594572416624\n",
      "\n",
      "26.77061855670103\n",
      "#################################################\n",
      "celegans_stress_down.txt\n",
      "Total Genes: 500\n",
      "Total Genes in PPI: 351\n",
      "Expected Matched Controls: 351\n",
      "Actual Matched Controls: 348\n",
      "\n",
      "Mean degree in set: 29.871794871794872\n",
      "Mean degree in matched set: 28.25\n",
      "Mean degree in PPI network: 22.096594572416624\n",
      "\n",
      "29.871794871794872\n",
      "#################################################\n",
      "sscrofa_wound_up.txt\n",
      "Total Genes: 500\n",
      "Total Genes in PPI: 466\n",
      "Expected Matched Controls: 466\n",
      "Actual Matched Controls: 462\n",
      "\n",
      "Mean degree in set: 41.02360515021459\n",
      "Mean degree in matched set: 36.21861471861472\n",
      "Mean degree in PPI network: 22.096594572416624\n",
      "\n",
      "41.02360515021459\n",
      "#################################################\n",
      "drerio_regen_up.txt\n",
      "Total Genes: 500\n",
      "Total Genes in PPI: 417\n",
      "Expected Matched Controls: 417\n",
      "Actual Matched Controls: 415\n",
      "\n",
      "Mean degree in set: 31.033573141486812\n",
      "Mean degree in matched set: 29.296385542168675\n",
      "Mean degree in PPI network: 22.096594572416624\n",
      "\n",
      "31.033573141486812\n",
      "#################################################\n",
      "hsapiens_stress_up.txt\n",
      "Total Genes: 500\n",
      "Total Genes in PPI: 404\n",
      "Expected Matched Controls: 404\n",
      "Actual Matched Controls: 391\n",
      "\n",
      "Mean degree in set: 42.65841584158416\n",
      "Mean degree in matched set: 28.40153452685422\n",
      "Mean degree in PPI network: 22.096594572416624\n",
      "\n",
      "42.65841584158416\n",
      "#################################################\n",
      "dmelanogaster_stress_up.txt\n",
      "Total Genes: 500\n",
      "Total Genes in PPI: 387\n",
      "Expected Matched Controls: 387\n",
      "Actual Matched Controls: 384\n",
      "\n",
      "Mean degree in set: 26.147286821705425\n",
      "Mean degree in matched set: 24.322916666666668\n",
      "Mean degree in PPI network: 22.096594572416624\n",
      "\n",
      "26.147286821705425\n",
      "#################################################\n",
      "hsapiens_stress_down.txt\n",
      "Total Genes: 500\n",
      "Total Genes in PPI: 392\n",
      "Expected Matched Controls: 392\n",
      "Actual Matched Controls: 389\n",
      "\n",
      "Mean degree in set: 23.681122448979593\n",
      "Mean degree in matched set: 20.187660668380463\n",
      "Mean degree in PPI network: 22.096594572416624\n",
      "\n",
      "23.681122448979593\n",
      "#################################################\n",
      "amexicanum_regen_up.txt\n",
      "Total Genes: 500\n",
      "Total Genes in PPI: 453\n",
      "Expected Matched Controls: 453\n",
      "Actual Matched Controls: 448\n",
      "\n",
      "Mean degree in set: 35.70419426048565\n",
      "Mean degree in matched set: 30.138392857142858\n",
      "Mean degree in PPI network: 22.096594572416624\n",
      "\n",
      "35.70419426048565\n"
     ]
    }
   ],
   "source": [
    "degrees = [val for (node, val) in hPPIN.degree()]\n",
    "group = [\"hPPin_total\"]*len(degrees)\n",
    "degree_mean_actual = []\n",
    "degree_mean_matched = []\n",
    "for file in os.listdir(\"/data/timonaj/cancer_as_wound/ppi_analysis/total_spec_exp_genes/\"):\n",
    "    print(\"#################################################\")\n",
    "    print(file)\n",
    "    input_str = \"/data/timonaj/cancer_as_wound/ppi_analysis/total_spec_exp_genes/\" + file\n",
    "    output_list = get_matched_controls(hPPIN, input_str, 1)\n",
    "    \n",
    "    group = group + ([file[:-4]]*len(output_list[2]))\n",
    "    degrees = degrees + output_list[2]\n",
    "    print(stats.mean(output_list[2]))\n",
    "    \n",
    "    degree_mean_actual.append(output_list[4])\n",
    "    \n",
    "    degree_mean_matched.append(output_list[5])"
   ]
  },
  {
   "cell_type": "code",
   "execution_count": 96,
   "id": "f127296e",
   "metadata": {},
   "outputs": [
    {
     "data": {
      "text/plain": [
       "[Text(0, 0, 'hPPin_total'),\n",
       " Text(1, 0, 'sscrofa_wound_down'),\n",
       " Text(2, 0, 'mmusculus_stress_down'),\n",
       " Text(3, 0, 'hsapiens_regen_up'),\n",
       " Text(4, 0, 'celegans_stress_up'),\n",
       " Text(5, 0, 'amexicanum_regen_down'),\n",
       " Text(6, 0, 'cosmic_hallmarks'),\n",
       " Text(7, 0, 'dmelanogaster_wound_down'),\n",
       " Text(8, 0, 'dmelanogaster_wound_up'),\n",
       " Text(9, 0, 'rnorvegicus_wound_down'),\n",
       " Text(10, 0, 'drerio_regen_down'),\n",
       " Text(11, 0, 'mmusculus_stress_up'),\n",
       " Text(12, 0, 'hsapiens_regen_down'),\n",
       " Text(13, 0, 'hsapiens_wound_up'),\n",
       " Text(14, 0, 'clupisFamiliaris_wound_down'),\n",
       " Text(15, 0, 'clupisFamiliaris_wound_up'),\n",
       " Text(16, 0, 'rnorvegicus_wound_up'),\n",
       " Text(17, 0, 'hsapiens_wound_down'),\n",
       " Text(18, 0, 'dmelanogaster_stress_down'),\n",
       " Text(19, 0, 'celegans_stress_down'),\n",
       " Text(20, 0, 'sscrofa_wound_up'),\n",
       " Text(21, 0, 'drerio_regen_up'),\n",
       " Text(22, 0, 'hsapiens_stress_up'),\n",
       " Text(23, 0, 'dmelanogaster_stress_up'),\n",
       " Text(24, 0, 'hsapiens_stress_down'),\n",
       " Text(25, 0, 'amexicanum_regen_up')]"
      ]
     },
     "execution_count": 96,
     "metadata": {},
     "output_type": "execute_result"
    },
    {
     "data": {
      "image/png": "[encoded data removed]",
      "text/plain": [
       "<Figure size 432x288 with 1 Axes>"
      ]
     },
     "metadata": {
      "needs_background": "light"
     },
     "output_type": "display_data"
    }
   ],
   "source": [
    "df = pd.DataFrame({'Group': group, 'Degrees': degrees})\n",
    "\n",
    "import matplotlib.pyplot as plt\n",
    "import seaborn as sns\n",
    "\n",
    "dd=pd.melt(df,id_vars=['Group'],value_vars=['Degrees'],var_name='Degrees')\n",
    "plot = sns.boxplot(x='Group',y='value',data=dd,showfliers = False)\n",
    "plot.set_xticklabels(plot.get_xticklabels(),rotation = 90)"
   ]
  },
  {
   "cell_type": "code",
   "execution_count": 105,
   "id": "7359705d",
   "metadata": {},
   "outputs": [
    {
     "data": {
      "image/png": "[encoded data removed]",
      "text/plain": [
       "<Figure size 432x288 with 1 Axes>"
      ]
     },
     "metadata": {
      "needs_background": "light"
     },
     "output_type": "display_data"
    }
   ],
   "source": [
    "# degree matching\n",
    "plt.scatter(degree_mean_actual, degree_mean_matched, alpha=0.5)\n",
    "plt.xlim((0, 100)) # restricts x axis from 0 to 25\n",
    "plt.ylim((0, 100)) # restricts x axis from 0 to 25\n",
    "plt.plot([0, 100], [0, 100], color=\"red\") # plots line y = x\n",
    "plt.title('Mean degree gene list vs. Mean degree matched control')\n",
    "plt.xlabel('Mean degree Gene sets')\n",
    "plt.ylabel('Mean degree Matched Control sets')\n",
    "plt.show()"
   ]
  },
  {
   "cell_type": "code",
   "execution_count": null,
   "id": "1f89b21d",
   "metadata": {},
   "outputs": [],
   "source": []
  }
 ],
 "metadata": {
  "kernelspec": {
   "display_name": "python/3.8",
   "language": "python",
   "name": "py3.8"
  },
  "language_info": {
   "codemirror_mode": {
    "name": "ipython",
    "version": 3
   },
   "file_extension": ".py",
   "mimetype": "text/x-python",
   "name": "python",
   "nbconvert_exporter": "python",
   "pygments_lexer": "ipython3",
   "version": "3.8.12"
  },
  "toc": {
   "base_numbering": 1,
   "nav_menu": {},
   "number_sections": true,
   "sideBar": true,
   "skip_h1_title": false,
   "title_cell": "Table of Contents",
   "title_sidebar": "Contents",
   "toc_cell": false,
   "toc_position": {},
   "toc_section_display": true,
   "toc_window_display": false
  }
 },
 "nbformat": 4,
 "nbformat_minor": 5
}
