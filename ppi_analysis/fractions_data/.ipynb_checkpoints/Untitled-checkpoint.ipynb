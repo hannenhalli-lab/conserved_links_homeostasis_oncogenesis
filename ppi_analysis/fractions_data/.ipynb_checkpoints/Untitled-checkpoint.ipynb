{
 "cells": [
  {
   "cell_type": "code",
   "execution_count": 1,
   "id": "1b6e2e5e",
   "metadata": {},
   "outputs": [
    {
     "name": "stderr",
     "output_type": "stream",
     "text": [
      "Loading required package: ggplot2\n",
      "\n",
      "\n",
      "Attaching package: ‘reshape’\n",
      "\n",
      "\n",
      "The following object is masked from ‘package:data.table’:\n",
      "\n",
      "    melt\n",
      "\n",
      "\n",
      "\n",
      "Attaching package: ‘dplyr’\n",
      "\n",
      "\n",
      "The following object is masked from ‘package:reshape’:\n",
      "\n",
      "    rename\n",
      "\n",
      "\n",
      "The following objects are masked from ‘package:data.table’:\n",
      "\n",
      "    between, first, last\n",
      "\n",
      "\n",
      "The following objects are masked from ‘package:stats’:\n",
      "\n",
      "    filter, lag\n",
      "\n",
      "\n",
      "The following objects are masked from ‘package:base’:\n",
      "\n",
      "    intersect, setdiff, setequal, union\n",
      "\n",
      "\n"
     ]
    }
   ],
   "source": [
    "library(\"data.table\")\n",
    "library(pheatmap)\n",
    "library(ggpubr)\n",
    "library(ggfortify)\n",
    "library(reshape)\n",
    "library(dplyr)"
   ]
  },
  {
   "cell_type": "code",
   "execution_count": 2,
   "id": "c03fef58",
   "metadata": {},
   "outputs": [
    {
     "ename": "ERROR",
     "evalue": "Error in fread(\"cosmic_hallmarks.txt\", header = F): File 'cosmic_hallmarks.txt' does not exist or is non-readable. getwd()=='/gpfs/gsfs11/users/timonaj/cancer_as_wound/ppi_analysis/fractions_data'\n",
     "output_type": "error",
     "traceback": [
      "Error in fread(\"cosmic_hallmarks.txt\", header = F): File 'cosmic_hallmarks.txt' does not exist or is non-readable. getwd()=='/gpfs/gsfs11/users/timonaj/cancer_as_wound/ppi_analysis/fractions_data'\nTraceback:\n",
      "1. fread(\"cosmic_hallmarks.txt\", header = F)",
      "2. stop(\"File '\", file, \"' does not exist or is non-readable. getwd()=='\", \n .     getwd(), \"'\")"
     ]
    }
   ],
   "source": [
    "cosmic_genes<-fread(\"cosmic_hallmarks.txt\",header=F)\n",
    "cosmic_genes<-as.data.frame(cosmic_genes)\n",
    "colnames(cosmic_genes)<-c(\"gene\")\n",
    "\n",
    "cosmic_matched_genes<-fread(\"cosmic_driver_matched.txt\",header=F)\n",
    "cosmic_matched_genes<-as.data.frame(cosmic_matched_genes)\n",
    "colnames(cosmic_matched_genes)<-c(\"gene\")"
   ]
  },
  {
   "cell_type": "code",
   "execution_count": null,
   "id": "f996d24e",
   "metadata": {},
   "outputs": [],
   "source": []
  },
  {
   "cell_type": "code",
   "execution_count": null,
   "id": "ae5dfaaf",
   "metadata": {},
   "outputs": [],
   "source": []
  }
 ],
 "metadata": {
  "kernelspec": {
   "display_name": "R/4.0",
   "language": "R",
   "name": "ir40"
  },
  "language_info": {
   "codemirror_mode": "r",
   "file_extension": ".r",
   "mimetype": "text/x-r-source",
   "name": "R",
   "pygments_lexer": "r",
   "version": "4.0.5"
  },
  "toc": {
   "base_numbering": 1,
   "nav_menu": {},
   "number_sections": true,
   "sideBar": true,
   "skip_h1_title": false,
   "title_cell": "Table of Contents",
   "title_sidebar": "Contents",
   "toc_cell": false,
   "toc_position": {},
   "toc_section_display": true,
   "toc_window_display": false
  }
 },
 "nbformat": 4,
 "nbformat_minor": 5
}
