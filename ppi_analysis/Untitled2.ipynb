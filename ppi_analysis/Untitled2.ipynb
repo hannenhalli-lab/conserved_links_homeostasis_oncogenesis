{
 "cells": [
  {
   "cell_type": "code",
   "execution_count": 15,
   "id": "d8ca4bf3",
   "metadata": {},
   "outputs": [
    {
     "name": "stdout",
     "output_type": "stream",
     "text": [
      "[1] \"printf \\\"#!/bin/bash\\nmodule load R\\nRscript /data/timonaj/cancer_as_wound/get_enrichment.R GO NA\\\" > ./enrichment/jobscript1.job \\nsbatch --mem=10g --cpus-per-task=2 --gres=lscratch:2 --time 4:00:00 ./enrichment/jobscript1.job \\n\"\n",
      "[1] \"printf \\\"#!/bin/bash\\nmodule load R\\nRscript /data/timonaj/cancer_as_wound/get_enrichment.R GO \\\" > ./enrichment/jobscript0.job \\nsbatch --mem=10g --cpus-per-task=2 --gres=lscratch:2 --time 4:00:00 ./enrichment/jobscript0.job \\n\"\n"
     ]
    }
   ],
   "source": [
    "files <-list.files(\"./geo_degs\")\n",
    "regen_files <- files[grep(\"^[a-z].*regen.*\", files)]\n",
    "pathway <- 'GO'\n",
    "for(i in 1:length(regen_files)){\n",
    "    command <- paste0(\"printf \\\"#!/bin/bash\\nmodule load R\\nRscript /data/timonaj/cancer_as_wound/get_enrichment.R \",\n",
    "                      pathway, ' ', regen_files[i], \"\\\" > \", \"./enrichment/jobscript\", i,\n",
    "                      \".job \\nsbatch --mem=10g --cpus-per-task=2 --gres=lscratch:2 --time 4:00:00 \",\n",
    "                      \"./enrichment/jobscript\", i, \".job \\n\")\n",
    "    print(command)\n",
    "}"
   ]
  },
  {
   "cell_type": "code",
   "execution_count": 13,
   "id": "4a144dda",
   "metadata": {},
   "outputs": [
    {
     "data": {
      "text/html": [],
      "text/latex": [],
      "text/markdown": [],
      "text/plain": [
       "character(0)"
      ]
     },
     "metadata": {},
     "output_type": "display_data"
    }
   ],
   "source": [
    "files"
   ]
  },
  {
   "cell_type": "code",
   "execution_count": 14,
   "id": "b6ebcdb7",
   "metadata": {},
   "outputs": [
    {
     "data": {
      "text/html": [],
      "text/latex": [],
      "text/markdown": [],
      "text/plain": [
       "character(0)"
      ]
     },
     "metadata": {},
     "output_type": "display_data"
    }
   ],
   "source": [
    "list.files(\"./geo_degs\")"
   ]
  },
  {
   "cell_type": "code",
   "execution_count": null,
   "id": "fe0b264c",
   "metadata": {},
   "outputs": [],
   "source": []
  }
 ],
 "metadata": {
  "kernelspec": {
   "display_name": "R/4.2",
   "language": "R",
   "name": "ir42"
  },
  "language_info": {
   "codemirror_mode": "r",
   "file_extension": ".r",
   "mimetype": "text/x-r-source",
   "name": "R",
   "pygments_lexer": "r",
   "version": "4.2.2"
  },
  "toc": {
   "base_numbering": 1,
   "nav_menu": {},
   "number_sections": true,
   "sideBar": true,
   "skip_h1_title": false,
   "title_cell": "Table of Contents",
   "title_sidebar": "Contents",
   "toc_cell": false,
   "toc_position": {},
   "toc_section_display": true,
   "toc_window_display": false
  }
 },
 "nbformat": 4,
 "nbformat_minor": 5
}
