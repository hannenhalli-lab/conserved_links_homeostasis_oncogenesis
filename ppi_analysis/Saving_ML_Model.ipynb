{
 "cells": [
  {
   "cell_type": "code",
   "execution_count": 26,
   "id": "7c2bd796",
   "metadata": {},
   "outputs": [],
   "source": [
    "from numpy import arange\n",
    "from pandas import read_csv\n",
    "from sklearn.model_selection import RepeatedKFold\n",
    "from pandas import read_csv\n",
    "import pandas as pd\n",
    "import numpy as np\n",
    "import sklearn\n",
    "from sklearn.model_selection import train_test_split\n",
    "from sklearn.model_selection import GridSearchCV\n",
    "from sklearn.metrics import classification_report\n",
    "from sklearn.svm import SVC\n",
    "from sklearn.ensemble import RandomForestClassifier\n",
    "from sklearn.model_selection import cross_val_score\n",
    "from sklearn.model_selection import StratifiedKFold\n",
    "from sklearn import model_selection\n",
    "from joblib import Parallel, delayed\n",
    "import joblib"
   ]
  },
  {
   "cell_type": "code",
   "execution_count": 27,
   "id": "232e4678",
   "metadata": {},
   "outputs": [],
   "source": [
    "###### Loading datasets ########\n",
    "\n",
    "# Load the dataset on which you want to train the model\n",
    "\n",
    "train_url = '/Users/agrawalp4/Downloads/Annan_work/model_fit/new_data'\n",
    "dataframe = read_csv(train_url, header=None)\n",
    "data_train = dataframe.values\n",
    "X_train, y_train = data_train[:, :-1], data_train[:, -1]"
   ]
  },
  {
   "cell_type": "code",
   "execution_count": 28,
   "id": "2c6534b1",
   "metadata": {},
   "outputs": [],
   "source": [
    "####### Gradient Boosting Classifier ####\n",
    "from sklearn.ensemble import GradientBoostingClassifier\n",
    "\n",
    "model = GradientBoostingClassifier(n_estimators=50, learning_rate=0.4, max_depth=1, random_state=0)\n",
    "model.fit(X_train, y_train)\n",
    "# save the model to disk\n",
    "filename = '/Users/agrawalp4/Downloads/Annan_work/model_fit/finalized_model.sav';\n",
    "joblib.dump(model, open(filename, 'wb'))"
   ]
  },
  {
   "cell_type": "code",
   "execution_count": 29,
   "id": "e6803c54",
   "metadata": {},
   "outputs": [],
   "source": [
    "# Load New dataset on which you want to predict\n",
    "\n",
    "test_url = '/Users/agrawalp4/Downloads/Annan_work/model_fit/test_data'\n",
    "dataframe = read_csv(test_url, header=None)\n",
    "data_test = dataframe.values\n",
    "X_test, y_test = data_test[:, :-1], data_test[:, -1]"
   ]
  },
  {
   "cell_type": "code",
   "execution_count": 30,
   "id": "8a9d796c",
   "metadata": {},
   "outputs": [
    {
     "name": "stdout",
     "output_type": "stream",
     "text": [
      "0.9640179910044977\n"
     ]
    }
   ],
   "source": [
    "# load the model from disk\n",
    "loaded_model = joblib.load(filename)\n",
    "result = loaded_model.score(X_test, y_test)\n",
    "print(result)"
   ]
  },
  {
   "cell_type": "code",
   "execution_count": null,
   "id": "48ab5208",
   "metadata": {},
   "outputs": [],
   "source": []
  }
 ],
 "metadata": {
  "kernelspec": {
   "display_name": "Python 3",
   "language": "python",
   "name": "python3"
  },
  "language_info": {
   "codemirror_mode": {
    "name": "ipython",
    "version": 3
   },
   "file_extension": ".py",
   "mimetype": "text/x-python",
   "name": "python",
   "nbconvert_exporter": "python",
   "pygments_lexer": "ipython3",
   "version": "3.6.7"
  },
  "toc": {
   "base_numbering": 1,
   "nav_menu": {},
   "number_sections": true,
   "sideBar": true,
   "skip_h1_title": false,
   "title_cell": "Table of Contents",
   "title_sidebar": "Contents",
   "toc_cell": false,
   "toc_position": {},
   "toc_section_display": true,
   "toc_window_display": false
  }
 },
 "nbformat": 4,
 "nbformat_minor": 5
}
