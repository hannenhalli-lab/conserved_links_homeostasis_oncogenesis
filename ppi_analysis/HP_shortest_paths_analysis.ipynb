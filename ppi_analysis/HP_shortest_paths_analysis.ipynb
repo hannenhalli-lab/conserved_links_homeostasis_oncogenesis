{
 "cells": [
  {
   "cell_type": "code",
   "execution_count": 1,
   "id": "2ec79f0a",
   "metadata": {},
   "outputs": [
    {
     "name": "stderr",
     "output_type": "stream",
     "text": [
      "Loading required package: ggplot2\n",
      "\n",
      "\n",
      "Attaching package: ‘reshape’\n",
      "\n",
      "\n",
      "The following object is masked from ‘package:data.table’:\n",
      "\n",
      "    melt\n",
      "\n",
      "\n",
      "\n",
      "Attaching package: ‘dplyr’\n",
      "\n",
      "\n",
      "The following object is masked from ‘package:reshape’:\n",
      "\n",
      "    rename\n",
      "\n",
      "\n",
      "The following objects are masked from ‘package:data.table’:\n",
      "\n",
      "    between, first, last\n",
      "\n",
      "\n",
      "The following objects are masked from ‘package:stats’:\n",
      "\n",
      "    filter, lag\n",
      "\n",
      "\n",
      "The following objects are masked from ‘package:base’:\n",
      "\n",
      "    intersect, setdiff, setequal, union\n",
      "\n",
      "\n"
     ]
    }
   ],
   "source": [
    "library(\"data.table\")\n",
    "library(pheatmap)\n",
    "library(ggpubr)\n",
    "library(ggfortify)\n",
    "library(reshape)\n",
    "library(dplyr)"
   ]
  },
  {
   "cell_type": "code",
   "execution_count": 2,
   "id": "483c9b6d",
   "metadata": {},
   "outputs": [
    {
     "name": "stdout",
     "output_type": "stream",
     "text": [
      "[1] \"Angiogenesis.txt\"\n",
      "[1] \"Apoptosis.txt\"\n",
      "[1] \"Cell_Cycle.txt\"\n",
      "[1] \"Differentiation.txt\"\n",
      "[1] \"DNA_damage.txt\"\n",
      "[1] \"DNA_repair.txt\"\n",
      "[1] \"EMT.txt\"\n",
      "[1] \"Hypoxia.txt\"\n",
      "[1] \"Inflammation.txt\"\n",
      "[1] \"Invasion.txt\"\n",
      "[1] \"Metastasis.txt\"\n",
      "[1] \"Proliferation.txt\"\n",
      "[1] \"Quiescence.txt\"\n",
      "[1] \"Stemness.txt\"\n"
     ]
    }
   ],
   "source": [
    "for(file in list.files(\"/data/timonaj/cancer_as_wound/ppi_analysis/cancersea/\",\".*\")) {print(file)}"
   ]
  },
  {
   "cell_type": "code",
   "execution_count": 6,
   "id": "eba3ce7a",
   "metadata": {},
   "outputs": [],
   "source": [
    "cancersea_list <- list()\n",
    "for(file in list.files(\"/data/timonaj/cancer_as_wound/ppi_analysis/cancersea/\",\".*\")) {\n",
    "    current_file <- fread(paste(\"/data/timonaj/cancer_as_wound/ppi_analysis/cancersea/\",\n",
    "                                                                     file, sep = \"\"))\n",
    "    cancersea_list[[gsub(\".txt\", \"\",file)]] <- current_file$GeneName\n",
    "}"
   ]
  },
  {
   "cell_type": "code",
   "execution_count": 7,
   "id": "12a403bc",
   "metadata": {},
   "outputs": [
    {
     "data": {
      "text/plain": [
       "                Length Class  Mode     \n",
       "Angiogenesis     73    -none- character\n",
       "Apoptosis        66    -none- character\n",
       "Cell_Cycle      137    -none- character\n",
       "Differentiation 201    -none- character\n",
       "DNA_damage      110    -none- character\n",
       "DNA_repair      119    -none- character\n",
       "EMT              90    -none- character\n",
       "Hypoxia          83    -none- character\n",
       "Inflammation    112    -none- character\n",
       "Invasion         97    -none- character\n",
       "Metastasis      166    -none- character\n",
       "Proliferation    88    -none- character\n",
       "Quiescence       66    -none- character\n",
       "Stemness        166    -none- character"
      ]
     },
     "metadata": {},
     "output_type": "display_data"
    }
   ],
   "source": [
    "summary(cancersea_list)"
   ]
  },
  {
   "cell_type": "code",
   "execution_count": null,
   "id": "fa370e1a",
   "metadata": {},
   "outputs": [],
   "source": []
  }
 ],
 "metadata": {
  "kernelspec": {
   "display_name": "R/4.1",
   "language": "R",
   "name": "ir41"
  },
  "language_info": {
   "codemirror_mode": "r",
   "file_extension": ".r",
   "mimetype": "text/x-r-source",
   "name": "R",
   "pygments_lexer": "r",
   "version": "4.1.3"
  },
  "toc": {
   "base_numbering": 1,
   "nav_menu": {},
   "number_sections": true,
   "sideBar": true,
   "skip_h1_title": false,
   "title_cell": "Table of Contents",
   "title_sidebar": "Contents",
   "toc_cell": false,
   "toc_position": {},
   "toc_section_display": true,
   "toc_window_display": false
  }
 },
 "nbformat": 4,
 "nbformat_minor": 5
}
