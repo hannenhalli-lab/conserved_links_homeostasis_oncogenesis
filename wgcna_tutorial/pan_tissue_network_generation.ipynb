{
 "cells": [
  {
   "cell_type": "code",
   "execution_count": 1,
   "id": "9e5308d5",
   "metadata": {},
   "outputs": [],
   "source": [
    "import sys\n",
    "import networkx as nx\n",
    "import pandas as pd\n",
    "import numpy as np\n",
    "import matplotlib.pyplot as plt\n",
    "import math\n",
    "import random\n",
    "import statistics as stats\n",
    "from scipy.stats import wilcoxon\n",
    "import openpyxl\n",
    "from pathlib import Path\n",
    "import pickle"
   ]
  },
  {
   "cell_type": "code",
   "execution_count": 2,
   "id": "3973dc14",
   "metadata": {},
   "outputs": [],
   "source": [
    "#pan_tissue_network = pd.read_csv(\"pan_tissue_network.txt\", sep=\"\\t\")"
   ]
  },
  {
   "cell_type": "code",
   "execution_count": 3,
   "id": "b43edb09",
   "metadata": {},
   "outputs": [],
   "source": [
    "pan_tissue_network = pd.read_csv(\"pan_tissue_network.txt\", sep=\"\\t\")"
   ]
  },
  {
   "cell_type": "code",
   "execution_count": 4,
   "id": "1f22b196",
   "metadata": {},
   "outputs": [
    {
     "data": {
      "text/plain": [
       "<bound method NDFrame.head of               TCOF1         NSRP1         SPPL3          OPA3          OPA1  \\\n",
       "0      1.000000e+00  6.630144e-04  2.427724e-04  2.145831e-09  5.866879e-07   \n",
       "1      6.630144e-04  1.000000e+00  5.755615e-06  3.117034e-08  3.751153e-04   \n",
       "2      2.427724e-04  5.755615e-06  1.000000e+00  1.311984e-04  2.370117e-06   \n",
       "3      2.145831e-09  3.117034e-08  1.311984e-04  1.000000e+00  6.907481e-04   \n",
       "4      5.866879e-07  3.751153e-04  2.370117e-06  6.907481e-04  1.000000e+00   \n",
       "...             ...           ...           ...           ...           ...   \n",
       "13984  8.323818e-06  5.577987e-07  3.617965e-05  5.323350e-07  1.018922e-05   \n",
       "13985  1.044718e-04  6.151877e-08  3.645886e-05  1.553413e-03  2.172474e-04   \n",
       "13986  5.534487e-05  1.172040e-03  1.366305e-03  3.315054e-06  3.951734e-06   \n",
       "13987  4.031722e-05  1.721754e-03  1.209249e-05  3.161428e-05  7.238243e-04   \n",
       "13988  1.120131e-08  2.462942e-06  9.376968e-15  5.614375e-04  4.788299e-04   \n",
       "\n",
       "              ITGA8         ITGA9         ITGA1         ITGA2         ITGA3  \\\n",
       "0      3.999830e-06  3.891051e-05  1.555091e-09  2.574751e-10  1.600643e-10   \n",
       "1      9.182191e-05  9.543653e-04  2.789317e-04  3.226838e-08  4.204193e-08   \n",
       "2      9.377319e-06  9.367481e-07  4.349909e-05  1.309553e-04  1.000029e-07   \n",
       "3      1.928533e-06  3.306771e-08  3.176619e-08  6.260693e-06  1.964736e-06   \n",
       "4      6.576493e-10  6.888576e-08  1.360393e-06  6.040389e-08  4.248184e-06   \n",
       "...             ...           ...           ...           ...           ...   \n",
       "13984  2.422009e-15  2.343646e-08  1.307021e-05  6.530662e-08  7.694101e-16   \n",
       "13985  1.416376e-05  2.005131e-10  2.781198e-09  2.661152e-07  1.494774e-06   \n",
       "13986  3.174858e-07  1.636230e-05  8.529110e-05  5.927346e-05  1.035824e-08   \n",
       "13987  2.420523e-04  2.691405e-06  3.125730e-08  5.727625e-13  4.520187e-08   \n",
       "13988  3.007446e-03  5.663274e-04  2.307038e-03  1.113088e-05  1.317120e-03   \n",
       "\n",
       "       ...          SELK       SLC7A14          SELE       SLC7A11  \\\n",
       "0      ...  9.674477e-06  2.798495e-09  4.122123e-07  1.825694e-13   \n",
       "1      ...  2.785023e-04  2.341258e-04  1.786727e-04  2.982140e-10   \n",
       "2      ...  2.290157e-03  1.935699e-12  4.083468e-11  3.628370e-06   \n",
       "3      ...  6.909710e-04  1.436678e-08  6.112433e-05  3.736525e-17   \n",
       "4      ...  3.402490e-05  7.016001e-05  6.001701e-10  8.550612e-11   \n",
       "...    ...           ...           ...           ...           ...   \n",
       "13984  ...  8.255367e-07  3.524693e-05  1.427684e-16  3.568122e-10   \n",
       "13985  ...  1.138145e-02  1.665341e-05  2.386529e-08  3.544236e-05   \n",
       "13986  ...  6.893840e-05  1.900473e-04  2.231392e-06  3.716565e-04   \n",
       "13987  ...  7.663533e-06  6.902850e-10  2.369384e-06  1.412437e-07   \n",
       "13988  ...  1.836564e-05  7.148212e-06  7.806682e-03  2.180374e-05   \n",
       "\n",
       "              GNGT2         GNGT1          SELT          SELV          NFIX  \\\n",
       "0      1.697155e-08  8.323818e-06  1.044718e-04  5.534487e-05  4.031722e-05   \n",
       "1      1.583385e-04  5.577987e-07  6.151877e-08  1.172040e-03  1.721754e-03   \n",
       "2      2.341628e-07  3.617965e-05  3.645886e-05  1.366305e-03  1.209249e-05   \n",
       "3      6.610850e-10  5.323350e-07  1.553413e-03  3.315054e-06  3.161428e-05   \n",
       "4      2.020824e-03  1.018922e-05  2.172474e-04  3.951734e-06  7.238243e-04   \n",
       "...             ...           ...           ...           ...           ...   \n",
       "13984  4.245975e-13  1.000000e+00  2.116804e-09  5.285256e-04  2.614917e-06   \n",
       "13985  1.705552e-06  2.116804e-09  1.000000e+00  2.656829e-06  5.781281e-04   \n",
       "13986  1.029726e-06  5.285256e-04  2.656829e-06  1.000000e+00  2.458324e-10   \n",
       "13987  2.990541e-03  2.614917e-06  5.781281e-04  2.458324e-10  1.000000e+00   \n",
       "13988  2.651883e-03  6.452724e-07  8.635514e-06  7.854096e-06  4.106723e-06   \n",
       "\n",
       "               SELP  \n",
       "0      1.120131e-08  \n",
       "1      2.462942e-06  \n",
       "2      9.376968e-15  \n",
       "3      5.614375e-04  \n",
       "4      4.788299e-04  \n",
       "...             ...  \n",
       "13984  6.452724e-07  \n",
       "13985  8.635514e-06  \n",
       "13986  7.854096e-06  \n",
       "13987  4.106723e-06  \n",
       "13988  1.000000e+00  \n",
       "\n",
       "[13989 rows x 13989 columns]>"
      ]
     },
     "execution_count": 4,
     "metadata": {},
     "output_type": "execute_result"
    }
   ],
   "source": [
    "pan_tissue_network.head"
   ]
  },
  {
   "cell_type": "code",
   "execution_count": 5,
   "id": "c9da8758",
   "metadata": {},
   "outputs": [],
   "source": [
    "new_names = pan_tissue_network.columns\n",
    "new_graph_names = {}\n",
    "for i in range(len(new_names)):\n",
    "    new_graph_names[i] = new_names[i]"
   ]
  },
  {
   "cell_type": "code",
   "execution_count": 6,
   "id": "2a4165bd",
   "metadata": {},
   "outputs": [],
   "source": [
    "df = pan_tissue_network.T.rename(columns=new_graph_names)"
   ]
  },
  {
   "cell_type": "code",
   "execution_count": 10,
   "id": "bc9f7910",
   "metadata": {},
   "outputs": [],
   "source": [
    "df.to_csv(\"pan_cancer_weighted_adjacency.csv\", index=False, header=True) "
   ]
  },
  {
   "cell_type": "code",
   "execution_count": null,
   "id": "a2fee184",
   "metadata": {},
   "outputs": [],
   "source": [
    "G = nx.from_pandas_adjacency(df)\n",
    "G.name = \"Graph from pandas adjacency matrix\"\n",
    "print(nx.info(G))"
   ]
  },
  {
   "cell_type": "code",
   "execution_count": null,
   "id": "1a452cfd",
   "metadata": {},
   "outputs": [],
   "source": [
    "print(G)"
   ]
  },
  {
   "cell_type": "code",
   "execution_count": 10,
   "id": "5bf5806c",
   "metadata": {},
   "outputs": [],
   "source": [
    "path_lengths = dict(nx.all_pairs_shortest_path_length(G))"
   ]
  },
  {
   "cell_type": "code",
   "execution_count": 11,
   "id": "12bef8bf",
   "metadata": {},
   "outputs": [],
   "source": [
    "with open(\"weighted_pan_cancer_sp_lengths_total.txt\", 'w') as f: \n",
    "    for key, value in path_lengths.items(): \n",
    "        f.write('%s\\t%s\\n' % (key, value))"
   ]
  },
  {
   "cell_type": "code",
   "execution_count": 12,
   "id": "a354c69d",
   "metadata": {},
   "outputs": [],
   "source": [
    "\n",
    "# Step 2\n",
    "with open('weighted_pan_cancer_paths.dictionary', 'wb') as config_dictionary_file:\n",
    " \n",
    "  # Step 3\n",
    "  pickle.dump(path_lengths, config_dictionary_file)"
   ]
  },
  {
   "cell_type": "code",
   "execution_count": 3,
   "id": "b5e0c0d7",
   "metadata": {},
   "outputs": [],
   "source": [
    "pan_tissue_network = pd.read_csv(\"pan_tissue_network.txt\", sep=\"\\t\")"
   ]
  },
  {
   "cell_type": "code",
   "execution_count": null,
   "id": "2d61071a",
   "metadata": {},
   "outputs": [],
   "source": [
    "pan_tissue_network_uw = pd.read_csv(\"pan_tissue_network_unweighted.txt\", sep=\"\\t\")\n",
    "\n",
    "new_names_uw = pan_tissue_network_uw.columns\n",
    "new_graph_names_uw = {}\n",
    "for i in range(len(new_names_uw)):\n",
    "    new_graph_names_uw[i] = new_names_uw[i]\n",
    "    \n",
    "df_uw = pan_tissue_network_uw.T.rename(columns=new_graph_names_uw)\n",
    "\n",
    "df_uw.to_csv(\"pan_cancer_unweighted_adjacency.csv\", index=False, header=True) \n",
    "\n",
    "G_uw = nx.from_pandas_adjacency(df_uw)\n",
    "G_uw.name = \"Graph from pandas adjacency matrix\"\n",
    "print(nx.info(G_uw))\n",
    "\n",
    "print(G_uw)"
   ]
  },
  {
   "cell_type": "code",
   "execution_count": 6,
   "id": "12e6357b",
   "metadata": {},
   "outputs": [
    {
     "name": "stderr",
     "output_type": "stream",
     "text": [
      "/tmp/ipykernel_9038/2976719948.py:14: DeprecationWarning: info is deprecated and will be removed in version 3.0.\n",
      "\n",
      "  print(nx.info(G_uw))\n"
     ]
    },
    {
     "name": "stdout",
     "output_type": "stream",
     "text": [
      "Graph named 'Graph from pandas adjacency matrix' with 13990 nodes and 1071871 edges\n",
      "Graph named 'Graph from pandas adjacency matrix' with 13990 nodes and 1071871 edges\n"
     ]
    }
   ],
   "source": [
    "pan_tissue_network_uw = pd.read_csv(\"pan_tissue_network_unweighted.5.txt\", sep=\"\\t\")\n",
    "\n",
    "new_names_uw = pan_tissue_network_uw.columns\n",
    "new_graph_names_uw = {}\n",
    "for i in range(len(new_names_uw)):\n",
    "    new_graph_names_uw[i] = new_names_uw[i]\n",
    "    \n",
    "df_uw = pan_tissue_network_uw.T.rename(columns=new_graph_names_uw)\n",
    "\n",
    "df_uw.to_csv(\"pan_tissue_unweighted_adjacency.5.csv\", index=False, header=True) \n",
    "\n",
    "G_uw = nx.from_pandas_adjacency(df_uw)\n",
    "G_uw.name = \"Graph from pandas adjacency matrix\"\n",
    "print(nx.info(G_uw))\n",
    "\n",
    "print(G_uw)\n",
    "\n",
    "path_lengths_uw = dict(nx.all_pairs_shortest_path_length(G_uw))\n",
    "\n",
    "with open(\"unweighted_pan_tissue_sp_lengths_total.5.txt\", 'w') as f: \n",
    "    for key, value in path_lengths_uw.items(): \n",
    "        f.write('%s\\t%s\\n' % (key, value))\n",
    "\n",
    "\n",
    "# Step 2\n",
    "with open('unweighted_pan_tissue_paths.5.dictionary', 'wb') as config_dictionary_file:\n",
    " \n",
    "  # Step 3\n",
    "  pickle.dump(path_lengths_uw, config_dictionary_file)\n",
    "\n",
    "textfile = open(\"pan_tissue_unweighted_degree_list.5.txt\", \"w\")\n",
    "\n",
    "for (node, val) in G_uw.degree():\n",
    "\n",
    "    textfile.write(node + \"\\t\" + str(val) + \"\\n\")\n",
    "\n",
    "textfile.close()\n",
    "\n",
    "#print(G_uw.density)"
   ]
  },
  {
   "cell_type": "code",
   "execution_count": 3,
   "id": "b1e043d2",
   "metadata": {},
   "outputs": [
    {
     "name": "stderr",
     "output_type": "stream",
     "text": [
      "/tmp/ipykernel_9038/4140812117.py:14: DeprecationWarning: info is deprecated and will be removed in version 3.0.\n",
      "\n",
      "  print(nx.info(G_uw))\n"
     ]
    },
    {
     "name": "stdout",
     "output_type": "stream",
     "text": [
      "Graph named 'Graph from pandas adjacency matrix' with 13990 nodes and 71055 edges\n",
      "Graph named 'Graph from pandas adjacency matrix' with 13990 nodes and 71055 edges\n"
     ]
    }
   ],
   "source": [
    "pan_tissue_network_uw = pd.read_csv(\"pan_tissue_network_unweighted.7.txt\", sep=\"\\t\")\n",
    "\n",
    "new_names_uw = pan_tissue_network_uw.columns\n",
    "new_graph_names_uw = {}\n",
    "for i in range(len(new_names_uw)):\n",
    "    new_graph_names_uw[i] = new_names_uw[i]\n",
    "    \n",
    "df_uw = pan_tissue_network_uw.T.rename(columns=new_graph_names_uw)\n",
    "\n",
    "df_uw.to_csv(\"pan_tissue_unweighted_adjacency.7.csv\", index=False, header=True) \n",
    "\n",
    "G_uw = nx.from_pandas_adjacency(df_uw)\n",
    "G_uw.name = \"Graph from pandas adjacency matrix\"\n",
    "print(nx.info(G_uw))\n",
    "\n",
    "print(G_uw)\n",
    "\n",
    "path_lengths_uw = dict(nx.all_pairs_shortest_path_length(G_uw))\n",
    "\n",
    "with open(\"unweighted_pan_tissue_sp_lengths_total.7.txt\", 'w') as f: \n",
    "    for key, value in path_lengths_uw.items(): \n",
    "        f.write('%s\\t%s\\n' % (key, value))\n",
    "\n",
    "\n",
    "# Step 2\n",
    "with open('unweighted_pan_tissue_paths.7.dictionary', 'wb') as config_dictionary_file:\n",
    " \n",
    "  # Step 3\n",
    "  pickle.dump(path_lengths_uw, config_dictionary_file)\n",
    "\n",
    "textfile = open(\"pan_tissue_unweighted_degree_list.7.txt\", \"w\")\n",
    "\n",
    "for (node, val) in G_uw.degree():\n",
    "\n",
    "    textfile.write(node + \"\\t\" + str(val) + \"\\n\")\n",
    "\n",
    "textfile.close()\n",
    "\n",
    "#print(G_uw.density)"
   ]
  },
  {
   "cell_type": "code",
   "execution_count": 5,
   "id": "b58ed171",
   "metadata": {},
   "outputs": [
    {
     "name": "stderr",
     "output_type": "stream",
     "text": [
      "/tmp/ipykernel_9038/2067568721.py:14: DeprecationWarning: info is deprecated and will be removed in version 3.0.\n",
      "\n",
      "  print(nx.info(G_uw))\n"
     ]
    },
    {
     "name": "stdout",
     "output_type": "stream",
     "text": [
      "Graph named 'Graph from pandas adjacency matrix' with 13990 nodes and 150807 edges\n",
      "Graph named 'Graph from pandas adjacency matrix' with 13990 nodes and 150807 edges\n"
     ]
    }
   ],
   "source": [
    "pan_tissue_network_uw = pd.read_csv(\"pan_tissue_network_unweighted.64.txt\", sep=\"\\t\")\n",
    "\n",
    "new_names_uw = pan_tissue_network_uw.columns\n",
    "new_graph_names_uw = {}\n",
    "for i in range(len(new_names_uw)):\n",
    "    new_graph_names_uw[i] = new_names_uw[i]\n",
    "    \n",
    "df_uw = pan_tissue_network_uw.T.rename(columns=new_graph_names_uw)\n",
    "\n",
    "df_uw.to_csv(\"pan_tissue_unweighted_adjacency.64.csv\", index=False, header=True) \n",
    "\n",
    "G_uw = nx.from_pandas_adjacency(df_uw)\n",
    "G_uw.name = \"Graph from pandas adjacency matrix\"\n",
    "print(nx.info(G_uw))\n",
    "\n",
    "print(G_uw)\n",
    "\n",
    "path_lengths_uw = dict(nx.all_pairs_shortest_path_length(G_uw))\n",
    "\n",
    "with open(\"unweighted_pan_tissue_sp_lengths_total.64.txt\", 'w') as f: \n",
    "    for key, value in path_lengths_uw.items(): \n",
    "        f.write('%s\\t%s\\n' % (key, value))\n",
    "\n",
    "\n",
    "# Step 2\n",
    "with open('unweighted_pan_tissue_paths.64.dictionary', 'wb') as config_dictionary_file:\n",
    " \n",
    "  # Step 3\n",
    "  pickle.dump(path_lengths_uw, config_dictionary_file)\n",
    "\n",
    "textfile = open(\"pan_tissue_unweighted_degree_list.64.txt\", \"w\")\n",
    "\n",
    "for (node, val) in G_uw.degree():\n",
    "\n",
    "    textfile.write(node + \"\\t\" + str(val) + \"\\n\")\n",
    "\n",
    "textfile.close()\n",
    "\n",
    "#print(G_uw.density)"
   ]
  },
  {
   "cell_type": "code",
   "execution_count": 2,
   "id": "599b6de3",
   "metadata": {},
   "outputs": [
    {
     "name": "stderr",
     "output_type": "stream",
     "text": [
      "/tmp/ipykernel_50027/3806915768.py:14: DeprecationWarning: info is deprecated and will be removed in version 3.0.\n",
      "\n",
      "  print(nx.info(G_uw))\n"
     ]
    },
    {
     "name": "stdout",
     "output_type": "stream",
     "text": [
      "Graph named 'Graph from pandas adjacency matrix' with 13990 nodes and 12406762 edges\n",
      "Graph named 'Graph from pandas adjacency matrix' with 13990 nodes and 12406762 edges\n"
     ]
    }
   ],
   "source": [
    "pan_tissue_network_uw = pd.read_csv(\"pan_tissue_network_unweighted.3.txt\", sep=\"\\t\")\n",
    "\n",
    "new_names_uw = pan_tissue_network_uw.columns\n",
    "new_graph_names_uw = {}\n",
    "for i in range(len(new_names_uw)):\n",
    "    new_graph_names_uw[i] = new_names_uw[i]\n",
    "    \n",
    "df_uw = pan_tissue_network_uw.T.rename(columns=new_graph_names_uw)\n",
    "\n",
    "df_uw.to_csv(\"pan_tissue_unweighted_adjacency.3.csv\", index=False, header=True) \n",
    "\n",
    "G_uw = nx.from_pandas_adjacency(df_uw)\n",
    "G_uw.name = \"Graph from pandas adjacency matrix\"\n",
    "print(nx.info(G_uw))\n",
    "\n",
    "print(G_uw)\n",
    "\n",
    "path_lengths_uw = dict(nx.all_pairs_shortest_path_length(G_uw))\n",
    "\n",
    "with open(\"unweighted_pan_tissue_sp_lengths_total.3.txt\", 'w') as f: \n",
    "    for key, value in path_lengths_uw.items(): \n",
    "        f.write('%s\\t%s\\n' % (key, value))\n",
    "\n",
    "\n",
    "# Step 2\n",
    "with open('unweighted_pan_tissue_paths.3.dictionary', 'wb') as config_dictionary_file:\n",
    " \n",
    "  # Step 3\n",
    "  pickle.dump(path_lengths_uw, config_dictionary_file)\n",
    "\n",
    "textfile = open(\"pan_tissue_unweighted_degree_list.3.txt\", \"w\")\n",
    "\n",
    "for (node, val) in G_uw.degree():\n",
    "\n",
    "    textfile.write(node + \"\\t\" + str(val) + \"\\n\")\n",
    "\n",
    "textfile.close()\n",
    "\n",
    "#print(G_uw.density)"
   ]
  },
  {
   "cell_type": "code",
   "execution_count": 4,
   "id": "5e88b94e",
   "metadata": {},
   "outputs": [
    {
     "name": "stderr",
     "output_type": "stream",
     "text": [
      "/tmp/ipykernel_25464/3420879459.py:14: DeprecationWarning: info is deprecated and will be removed in version 3.0.\n",
      "\n",
      "  print(nx.info(G_uw))\n"
     ]
    },
    {
     "name": "stdout",
     "output_type": "stream",
     "text": [
      "Graph named 'Graph from pandas adjacency matrix' with 13990 nodes and 4233814 edges\n",
      "Graph named 'Graph from pandas adjacency matrix' with 13990 nodes and 4233814 edges\n"
     ]
    }
   ],
   "source": [
    "pan_tissue_network_uw = pd.read_csv(\"pan_tissue_network_unweighted.4.txt\", sep=\"\\t\")\n",
    "\n",
    "new_names_uw = pan_tissue_network_uw.columns\n",
    "new_graph_names_uw = {}\n",
    "for i in range(len(new_names_uw)):\n",
    "    new_graph_names_uw[i] = new_names_uw[i]\n",
    "    \n",
    "df_uw = pan_tissue_network_uw.T.rename(columns=new_graph_names_uw)\n",
    "\n",
    "df_uw.to_csv(\"pan_tissue_unweighted_adjacency.4.csv\", index=False, header=True) \n",
    "\n",
    "G_uw = nx.from_pandas_adjacency(df_uw)\n",
    "G_uw.name = \"Graph from pandas adjacency matrix\"\n",
    "print(nx.info(G_uw))\n",
    "\n",
    "print(G_uw)\n",
    "\n",
    "path_lengths_uw = dict(nx.all_pairs_shortest_path_length(G_uw))\n",
    "\n",
    "with open(\"unweighted_pan_tissue_sp_lengths_total.4.txt\", 'w') as f: \n",
    "    for key, value in path_lengths_uw.items(): \n",
    "        f.write('%s\\t%s\\n' % (key, value))\n",
    "\n",
    "\n",
    "# Step 2\n",
    "with open('unweighted_pan_tissue_paths.4.dictionary', 'wb') as config_dictionary_file:\n",
    " \n",
    "  # Step 3\n",
    "  pickle.dump(path_lengths_uw, config_dictionary_file)\n",
    "\n",
    "textfile = open(\"pan_tissue_unweighted_degree_list.4.txt\", \"w\")\n",
    "\n",
    "for (node, val) in G_uw.degree():\n",
    "\n",
    "    textfile.write(node + \"\\t\" + str(val) + \"\\n\")\n",
    "\n",
    "textfile.close()\n",
    "\n",
    "#print(G_uw.density)"
   ]
  },
  {
   "cell_type": "code",
   "execution_count": null,
   "id": "857ae18b",
   "metadata": {},
   "outputs": [],
   "source": []
  }
 ],
 "metadata": {
  "kernelspec": {
   "display_name": "python/3.8",
   "language": "python",
   "name": "py3.8"
  },
  "language_info": {
   "codemirror_mode": {
    "name": "ipython",
    "version": 3
   },
   "file_extension": ".py",
   "mimetype": "text/x-python",
   "name": "python",
   "nbconvert_exporter": "python",
   "pygments_lexer": "ipython3",
   "version": "3.8.12"
  },
  "toc": {
   "base_numbering": 1,
   "nav_menu": {},
   "number_sections": true,
   "sideBar": true,
   "skip_h1_title": false,
   "title_cell": "Table of Contents",
   "title_sidebar": "Contents",
   "toc_cell": false,
   "toc_position": {},
   "toc_section_display": true,
   "toc_window_display": false
  }
 },
 "nbformat": 4,
 "nbformat_minor": 5
}
