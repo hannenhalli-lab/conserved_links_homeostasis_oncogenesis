{
 "cells": [
  {
   "cell_type": "code",
   "execution_count": 1,
   "id": "9e5308d5",
   "metadata": {},
   "outputs": [],
   "source": [
    "import sys\n",
    "import networkx as nx\n",
    "import pandas as pd\n",
    "import numpy as np\n",
    "import matplotlib.pyplot as plt\n",
    "import math\n",
    "import random\n",
    "import statistics as stats\n",
    "from scipy.stats import wilcoxon\n",
    "import openpyxl\n",
    "from pathlib import Path"
   ]
  },
  {
   "cell_type": "code",
   "execution_count": 2,
   "id": "3973dc14",
   "metadata": {},
   "outputs": [],
   "source": [
    "#pan_tissue_network = pd.read_csv(\"pan_tissue_network.txt\", sep=\"\\t\")"
   ]
  },
  {
   "cell_type": "code",
   "execution_count": 3,
   "id": "b43edb09",
   "metadata": {},
   "outputs": [],
   "source": [
    "pan_tissue_network = pd.read_csv(\"pan_tissue_network.txt\", sep=\"\\t\")"
   ]
  },
  {
   "cell_type": "code",
   "execution_count": 4,
   "id": "1f22b196",
   "metadata": {},
   "outputs": [
    {
     "data": {
      "text/plain": [
       "<bound method NDFrame.head of        CTD-2588J6.1  RP11-433M22.1  CTD-2588J6.2  RP3-415N12.1  RP11-16E12.2  \\\n",
       "0          1.000000       0.000485      0.000096      0.007136      0.005570   \n",
       "1          0.000485       1.000000      0.072794      0.002254      0.000012   \n",
       "2          0.000096       0.072794      1.000000      0.001153      0.002523   \n",
       "3          0.007136       0.002254      0.001153      1.000000      0.001267   \n",
       "4          0.005570       0.000012      0.002523      0.001267      1.000000   \n",
       "...             ...            ...           ...           ...           ...   \n",
       "51356      0.003358       0.052347      0.192348      0.004839      0.000214   \n",
       "51357      0.007239       0.008899      0.008026      0.035512      0.137799   \n",
       "51358      0.000004       0.004882      0.007637      0.032922      0.000431   \n",
       "51359      0.001371       0.000108      0.056943      0.001196      0.003336   \n",
       "51360      0.005963       0.058600      0.402094      0.004172      0.000386   \n",
       "\n",
       "       RP11-433M22.2   PSMA2P3  RP11-181G12.4  RP11-181G12.2  AC007272.3  ...  \\\n",
       "0           0.002166  0.000413       0.000097       0.021965    0.002556  ...   \n",
       "1           0.063494  0.004365       0.003933       0.006971    0.000463  ...   \n",
       "2           0.287331  0.072823       0.003067       0.037438    0.007411  ...   \n",
       "3           0.000517  0.001443       0.019559       0.008891    0.000042  ...   \n",
       "4           0.000673  0.000619       0.002756       0.119725    0.047487  ...   \n",
       "...              ...       ...            ...            ...         ...  ...   \n",
       "51356       0.228647  0.093370       0.005829       0.173960    0.006386  ...   \n",
       "51357       0.070369  0.004651       0.000116       0.021720    0.017785  ...   \n",
       "51358       0.025459  0.015898       0.001626       0.000429    0.019297  ...   \n",
       "51359       0.148280  0.060626       0.001227       0.011606    0.001885  ...   \n",
       "51360       0.485313  0.155360       0.000436       0.084085    0.005651  ...   \n",
       "\n",
       "       RP11-390F4.3     GNGT2     GNGT1      SELT  DIAPH2-AS1      SELV  \\\n",
       "0          0.003749  0.004367  0.002362  0.001777    0.001381  0.003358   \n",
       "1          0.013943  0.000307  0.024154  0.001949    0.002242  0.052347   \n",
       "2          0.043739  0.001468  0.098022  0.002515    0.004270  0.192348   \n",
       "3          0.004615  0.001248  0.000079  0.013764    0.017683  0.004839   \n",
       "4          0.157149  0.120771  0.006317  0.015081    0.000210  0.000214   \n",
       "...             ...       ...       ...       ...         ...       ...   \n",
       "51356      0.051837  0.004715  0.073357  0.008643    0.001290  1.000000   \n",
       "51357      0.256639  0.142483  0.019636  0.092417    0.010362  0.000637   \n",
       "51358      0.131147  0.116049  0.016600  0.031463    0.010232  0.011713   \n",
       "51359      0.022503  0.001076  0.020126  0.000049    0.004470  0.088884   \n",
       "51360      0.109644  0.005696  0.101419  0.018174    0.006192  0.410939   \n",
       "\n",
       "           NFIX      SELP  AC002386.1  RP11-526P5.2  \n",
       "0      0.007239  0.000004    0.001371      0.005963  \n",
       "1      0.008899  0.004882    0.000108      0.058600  \n",
       "2      0.008026  0.007637    0.056943      0.402094  \n",
       "3      0.035512  0.032922    0.001196      0.004172  \n",
       "4      0.137799  0.000431    0.003336      0.000386  \n",
       "...         ...       ...         ...           ...  \n",
       "51356  0.000637  0.011713    0.088884      0.410939  \n",
       "51357  1.000000  0.023970    0.002269      0.026937  \n",
       "51358  0.023970  1.000000    0.000190      0.029477  \n",
       "51359  0.002269  0.000190    1.000000      0.223936  \n",
       "51360  0.026937  0.029477    0.223936      1.000000  \n",
       "\n",
       "[51361 rows x 51361 columns]>"
      ]
     },
     "execution_count": 4,
     "metadata": {},
     "output_type": "execute_result"
    }
   ],
   "source": [
    "pan_tissue_network.head"
   ]
  },
  {
   "cell_type": "code",
   "execution_count": 5,
   "id": "c9da8758",
   "metadata": {},
   "outputs": [],
   "source": [
    "new_names = pan_tissue_network.columns\n",
    "new_graph_names = {}\n",
    "for i in range(len(new_names)):\n",
    "    new_graph_names[i] = new_names[i]"
   ]
  },
  {
   "cell_type": "code",
   "execution_count": 6,
   "id": "2a4165bd",
   "metadata": {},
   "outputs": [],
   "source": [
    "df = pan_tissue_network.T.rename(columns=new_graph_names)"
   ]
  },
  {
   "cell_type": "code",
   "execution_count": null,
   "id": "bc9f7910",
   "metadata": {},
   "outputs": [],
   "source": [
    "df.to_csv(\"pan_cancer_weighted_adjacency.csv\", index=False, header=True) "
   ]
  },
  {
   "cell_type": "code",
   "execution_count": null,
   "id": "a2fee184",
   "metadata": {},
   "outputs": [],
   "source": [
    "G = nx.from_pandas_adjacency(df)\n",
    "G.name = \"Graph from pandas adjacency matrix\"\n",
    "print(nx.info(G))"
   ]
  },
  {
   "cell_type": "code",
   "execution_count": null,
   "id": "1a452cfd",
   "metadata": {},
   "outputs": [],
   "source": [
    "print(G)"
   ]
  },
  {
   "cell_type": "code",
   "execution_count": null,
   "id": "5bf5806c",
   "metadata": {},
   "outputs": [],
   "source": [
    "path_lengths = dict(nx.all_pairs_shortest_path_length(G))"
   ]
  },
  {
   "cell_type": "code",
   "execution_count": null,
   "id": "12bef8bf",
   "metadata": {},
   "outputs": [],
   "source": [
    "with open(\"weighted_pan_cancer_sp_lengths_total.txt\", 'w') as f: \n",
    "    for key, value in path_lengths.items(): \n",
    "        f.write('%s\\t%s\\n' % (key, value))"
   ]
  },
  {
   "cell_type": "code",
   "execution_count": null,
   "id": "a354c69d",
   "metadata": {},
   "outputs": [],
   "source": [
    "import pickle\n",
    "\n",
    "# Step 2\n",
    "with open('weighted_pan_cancer_paths.dictionary', 'wb') as config_dictionary_file:\n",
    " \n",
    "  # Step 3\n",
    "  pickle.dump(path_lengths, config_dictionary_file)"
   ]
  },
  {
   "cell_type": "code",
   "execution_count": 3,
   "id": "b5e0c0d7",
   "metadata": {},
   "outputs": [],
   "source": [
    "pan_tissue_network = pd.read_csv(\"pan_tissue_network.txt\", sep=\"\\t\")"
   ]
  },
  {
   "cell_type": "code",
   "execution_count": null,
   "id": "2d61071a",
   "metadata": {},
   "outputs": [],
   "source": []
  }
 ],
 "metadata": {
  "kernelspec": {
   "display_name": "python/3.8",
   "language": "python",
   "name": "py3.8"
  },
  "language_info": {
   "codemirror_mode": {
    "name": "ipython",
    "version": 3
   },
   "file_extension": ".py",
   "mimetype": "text/x-python",
   "name": "python",
   "nbconvert_exporter": "python",
   "pygments_lexer": "ipython3",
   "version": "3.8.12"
  },
  "toc": {
   "base_numbering": 1,
   "nav_menu": {},
   "number_sections": true,
   "sideBar": true,
   "skip_h1_title": false,
   "title_cell": "Table of Contents",
   "title_sidebar": "Contents",
   "toc_cell": false,
   "toc_position": {},
   "toc_section_display": true,
   "toc_window_display": false
  }
 },
 "nbformat": 4,
 "nbformat_minor": 5
}
