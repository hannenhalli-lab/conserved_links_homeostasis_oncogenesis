{
 "cells": [
  {
   "cell_type": "code",
   "execution_count": 1,
   "id": "8388f4ef-97d6-4af8-a03a-ac8b339fed8a",
   "metadata": {},
   "outputs": [
    {
     "name": "stderr",
     "output_type": "stream",
     "text": [
      "Loading required package: MatrixGenerics\n",
      "\n",
      "Loading required package: matrixStats\n",
      "\n",
      "\n",
      "Attaching package: ‘MatrixGenerics’\n",
      "\n",
      "\n",
      "The following objects are masked from ‘package:matrixStats’:\n",
      "\n",
      "    colAlls, colAnyNAs, colAnys, colAvgsPerRowSet, colCollapse,\n",
      "    colCounts, colCummaxs, colCummins, colCumprods, colCumsums,\n",
      "    colDiffs, colIQRDiffs, colIQRs, colLogSumExps, colMadDiffs,\n",
      "    colMads, colMaxs, colMeans2, colMedians, colMins, colOrderStats,\n",
      "    colProds, colQuantiles, colRanges, colRanks, colSdDiffs, colSds,\n",
      "    colSums2, colTabulates, colVarDiffs, colVars, colWeightedMads,\n",
      "    colWeightedMeans, colWeightedMedians, colWeightedSds,\n",
      "    colWeightedVars, rowAlls, rowAnyNAs, rowAnys, rowAvgsPerColSet,\n",
      "    rowCollapse, rowCounts, rowCummaxs, rowCummins, rowCumprods,\n",
      "    rowCumsums, rowDiffs, rowIQRDiffs, rowIQRs, rowLogSumExps,\n",
      "    rowMadDiffs, rowMads, rowMaxs, rowMeans2, rowMedians, rowMins,\n",
      "    rowOrderStats, rowProds, rowQuantiles, rowRanges, rowRanks,\n",
      "    rowSdDiffs, rowSds, rowSums2, rowTabulates, rowVarDiffs, rowVars,\n",
      "    rowWeightedMads, rowWeightedMeans, rowWeightedMedians,\n",
      "    rowWeightedSds, rowWeightedVars\n",
      "\n",
      "\n",
      "Loading required package: GenomicRanges\n",
      "\n",
      "Loading required package: stats4\n",
      "\n",
      "Loading required package: BiocGenerics\n",
      "\n",
      "\n",
      "Attaching package: ‘BiocGenerics’\n",
      "\n",
      "\n",
      "The following objects are masked from ‘package:stats’:\n",
      "\n",
      "    IQR, mad, sd, var, xtabs\n",
      "\n",
      "\n",
      "The following objects are masked from ‘package:base’:\n",
      "\n",
      "    anyDuplicated, aperm, append, as.data.frame, basename, cbind,\n",
      "    colnames, dirname, do.call, duplicated, eval, evalq, Filter, Find,\n",
      "    get, grep, grepl, intersect, is.unsorted, lapply, Map, mapply,\n",
      "    match, mget, order, paste, pmax, pmax.int, pmin, pmin.int,\n",
      "    Position, rank, rbind, Reduce, rownames, sapply, setdiff, sort,\n",
      "    table, tapply, union, unique, unsplit, which.max, which.min\n",
      "\n",
      "\n",
      "Loading required package: S4Vectors\n",
      "\n",
      "\n",
      "Attaching package: ‘S4Vectors’\n",
      "\n",
      "\n",
      "The following object is masked from ‘package:utils’:\n",
      "\n",
      "    findMatches\n",
      "\n",
      "\n",
      "The following objects are masked from ‘package:base’:\n",
      "\n",
      "    expand.grid, I, unname\n",
      "\n",
      "\n",
      "Loading required package: IRanges\n",
      "\n",
      "Loading required package: GenomeInfoDb\n",
      "\n",
      "Loading required package: Biobase\n",
      "\n",
      "Welcome to Bioconductor\n",
      "\n",
      "    Vignettes contain introductory material; view with\n",
      "    'browseVignettes()'. To cite Bioconductor, see\n",
      "    'citation(\"Biobase\")', and for packages 'citation(\"pkgname\")'.\n",
      "\n",
      "\n",
      "\n",
      "Attaching package: ‘Biobase’\n",
      "\n",
      "\n",
      "The following object is masked from ‘package:MatrixGenerics’:\n",
      "\n",
      "    rowMedians\n",
      "\n",
      "\n",
      "The following objects are masked from ‘package:matrixStats’:\n",
      "\n",
      "    anyMissing, rowMedians\n",
      "\n",
      "\n",
      "\n",
      "Attaching package: ‘dplyr’\n",
      "\n",
      "\n",
      "The following object is masked from ‘package:Biobase’:\n",
      "\n",
      "    combine\n",
      "\n",
      "\n",
      "The following objects are masked from ‘package:GenomicRanges’:\n",
      "\n",
      "    intersect, setdiff, union\n",
      "\n",
      "\n",
      "The following object is masked from ‘package:GenomeInfoDb’:\n",
      "\n",
      "    intersect\n",
      "\n",
      "\n",
      "The following objects are masked from ‘package:IRanges’:\n",
      "\n",
      "    collapse, desc, intersect, setdiff, slice, union\n",
      "\n",
      "\n",
      "The following objects are masked from ‘package:S4Vectors’:\n",
      "\n",
      "    first, intersect, rename, setdiff, setequal, union\n",
      "\n",
      "\n",
      "The following objects are masked from ‘package:BiocGenerics’:\n",
      "\n",
      "    combine, intersect, setdiff, union\n",
      "\n",
      "\n",
      "The following object is masked from ‘package:matrixStats’:\n",
      "\n",
      "    count\n",
      "\n",
      "\n",
      "The following objects are masked from ‘package:stats’:\n",
      "\n",
      "    filter, lag\n",
      "\n",
      "\n",
      "The following objects are masked from ‘package:base’:\n",
      "\n",
      "    intersect, setdiff, setequal, union\n",
      "\n",
      "\n",
      "Loading required package: ggplot2\n",
      "\n",
      "Loading required package: ggpubr\n",
      "\n",
      "\n",
      "Attaching package: ‘survminer’\n",
      "\n",
      "\n",
      "The following object is masked from ‘package:survival’:\n",
      "\n",
      "    myeloma\n",
      "\n",
      "\n",
      "Loading required package: limma\n",
      "\n",
      "\n",
      "Attaching package: ‘limma’\n",
      "\n",
      "\n",
      "The following object is masked from ‘package:BiocGenerics’:\n",
      "\n",
      "    plotMA\n",
      "\n",
      "\n"
     ]
    }
   ],
   "source": [
    "library(TCGAbiolinks)\n",
    "library(SummarizedExperiment)\n",
    "library(dplyr)\n",
    "library(survival)\n",
    "library(survminer)\n",
    "library(tibble)\n",
    "library(edgeR)\n",
    "library(biomaRt)"
   ]
  },
  {
   "cell_type": "code",
   "execution_count": 2,
   "id": "c6a53da5-b1ec-4cac-95ac-0d66748b5277",
   "metadata": {},
   "outputs": [],
   "source": [
    "# Load protein-coding gene symbols\n",
    "protein_coding_genes <- readLines(\"~/Downloads/Annan_Project/Survival/Prot_cod_list_107\")"
   ]
  },
  {
   "cell_type": "code",
   "execution_count": 3,
   "id": "1c7a0b44-8bac-4385-97d8-eb3a868197d1",
   "metadata": {},
   "outputs": [],
   "source": [
    "# Set up Ensembl BioMart connection\n",
    "ensembl <- useMart(\"ensembl\", dataset = \"hsapiens_gene_ensembl\")"
   ]
  },
  {
   "cell_type": "code",
   "execution_count": 4,
   "id": "8603cefd-341f-48ba-9dfb-d07044497f26",
   "metadata": {},
   "outputs": [],
   "source": [
    "# Define function to convert raw counts to log2(TPM + 1)\n",
    "counts_to_tpm <- function(counts, gene_lengths) {\n",
    "  rate <- counts / gene_lengths\n",
    "  tpm <- t(t(rate) * 1e6 / colSums(rate))\n",
    "  return(log2(tpm + 1))\n",
    "}"
   ]
  },
  {
   "cell_type": "code",
   "execution_count": 5,
   "id": "266f5ef9-8128-4c6f-ab40-9f3cc61872bd",
   "metadata": {},
   "outputs": [],
   "source": [
    "# Function to run Cox regression\n",
    "run_cox_analysis <- function(expr_matrix, clin_df) {\n",
    "  results <- data.frame(Gene=character(), HR=numeric(), pval=numeric(), stringsAsFactors = FALSE)\n",
    "  for (gene in rownames(expr_matrix)) {\n",
    "    expr <- expr_matrix[gene, ]\n",
    "    df <- data.frame(\n",
    "      expr = as.numeric(expr),\n",
    "      age = clin_df$age,\n",
    "      sex = clin_df$gender,\n",
    "      OS.time = clin_df$OS.time,\n",
    "      OS = clin_df$OS\n",
    "    )\n",
    "    df <- df[complete.cases(df), ]\n",
    "    if (length(unique(df$expr)) > 5) {\n",
    "      cox <- tryCatch({\n",
    "        coxph(Surv(OS.time, OS) ~ expr + age + sex, data = df)\n",
    "      }, error = function(e) return(NULL))\n",
    "      if (!is.null(cox)) {\n",
    "        hr <- summary(cox)$coefficients[\"expr\", \"exp(coef)\"]\n",
    "        pval <- summary(cox)$coefficients[\"expr\", \"Pr(>|z|)\"]\n",
    "        results <- rbind(results, data.frame(Gene=gene, HR=hr, pval=pval))\n",
    "      }\n",
    "    }\n",
    "  }\n",
    "  results$FDR <- p.adjust(results$pval, method = \"fdr\")\n",
    "  return(results)\n",
    "}"
   ]
  },
  {
   "cell_type": "code",
   "execution_count": 6,
   "id": "bb6ae63b-c93c-4ab2-a0bc-ca4e1681bc5c",
   "metadata": {},
   "outputs": [],
   "source": [
    "# Cancer types to analyze\n",
    "tcga_projects <- c(\"TCGA-LAML\")\n",
    "#tcga_projects <- c(\"TCGA-ACC\", \"TCGA-BLCA\", \"TCGA-BRCA\", \"TCGA-CESC\",\n",
    "#                   \"TCGA-CHOL\", \"TCGA-COAD\", \"TCGA-DLBC\", \"TCGA-ESCA\",\n",
    "#                   \"TCGA-GBM\", \"TCGA-HNSC\", \"TCGA-KICH\", \"TCGA-KIRC\",\n",
    "#                   \"TCGA-KIRP\", \"TCGA-LAML\", \"TCGA-LGG\", \"TCGA-LIHC\",\n",
    "#                   \"TCGA-LUAD\", \"TCGA-LUSC\", \"TCGA-MESO\", \"TCGA-OV\",\n",
    "#                   \"TCGA-PAAD\", \"TCGA-PCPG\", \"TCGA-PRAD\", \"TCGA-READ\",\n",
    "#                   \"TCGA-SARC\", \"TCGA-SKCM\", \"TCGA-STAD\", \"TCGA-TGCT\",\n",
    "#                   \"TCGA-THCA\", \"TCGA-THYM\", \"TCGA-UCEC\", \"TCGA-UCS\",\n",
    "#                   \"TCGA-UVM\")"
   ]
  },
  {
   "cell_type": "code",
   "execution_count": 8,
   "id": "8fa1e181-9bd9-4540-9e29-2dd1c840794a",
   "metadata": {},
   "outputs": [
    {
     "name": "stdout",
     "output_type": "stream",
     "text": [
      "Processing TCGA-LAML ...\n"
     ]
    },
    {
     "name": "stderr",
     "output_type": "stream",
     "text": [
      "--------------------------------------\n",
      "\n",
      "o GDCquery: Searching in GDC database\n",
      "\n",
      "--------------------------------------\n",
      "\n",
      "Genome of reference: hg38\n",
      "\n",
      "--------------------------------------------\n",
      "\n",
      "oo Accessing GDC. This might take a while...\n",
      "\n",
      "--------------------------------------------\n",
      "\n",
      "ooo Project: TCGA-LAML\n",
      "\n",
      "--------------------\n",
      "\n",
      "oo Filtering results\n",
      "\n",
      "--------------------\n",
      "\n",
      "ooo By data.type\n",
      "\n",
      "ooo By workflow.type\n",
      "\n",
      "ooo By sample.type\n",
      "\n",
      "----------------\n",
      "\n",
      "oo Checking data\n",
      "\n",
      "----------------\n",
      "\n",
      "ooo Checking if there are duplicated cases\n",
      "\n",
      "ooo Checking if there are results for the query\n",
      "\n",
      "-------------------\n",
      "\n",
      "o Preparing output\n",
      "\n",
      "-------------------\n",
      "\n",
      "Downloading data for project TCGA-LAML\n",
      "\n",
      "GDCdownload will download 151 files. A total of 639.823772 MB\n",
      "\n",
      "Downloading chunk 1 of 8 (20 files, size = 84.748568 MB) as Fri_Jun_20_07_52_30_2025_0.tar.gz\n",
      "\n"
     ]
    },
    {
     "name": "stdout",
     "output_type": "stream",
     "text": [
      "Downloading: 22 MB        "
     ]
    },
    {
     "name": "stderr",
     "output_type": "stream",
     "text": [
      "Downloading chunk 2 of 8 (20 files, size = 84.762474 MB) as Fri_Jun_20_07_52_30_2025_1.tar.gz\n",
      "\n"
     ]
    },
    {
     "name": "stdout",
     "output_type": "stream",
     "text": [
      "Downloading: 22 MB      "
     ]
    },
    {
     "name": "stderr",
     "output_type": "stream",
     "text": [
      "Downloading chunk 3 of 8 (20 files, size = 84.761009 MB) as Fri_Jun_20_07_52_30_2025_2.tar.gz\n",
      "\n"
     ]
    },
    {
     "name": "stdout",
     "output_type": "stream",
     "text": [
      "Downloading: 22 MB      "
     ]
    },
    {
     "name": "stderr",
     "output_type": "stream",
     "text": [
      "Downloading chunk 4 of 8 (20 files, size = 84.696685 MB) as Fri_Jun_20_07_52_30_2025_3.tar.gz\n",
      "\n"
     ]
    },
    {
     "name": "stdout",
     "output_type": "stream",
     "text": [
      "Downloading: 22 MB      "
     ]
    },
    {
     "name": "stderr",
     "output_type": "stream",
     "text": [
      "Downloading chunk 5 of 8 (20 files, size = 84.739132 MB) as Fri_Jun_20_07_52_30_2025_4.tar.gz\n",
      "\n"
     ]
    },
    {
     "name": "stdout",
     "output_type": "stream",
     "text": [
      "Downloading: 22 MB      "
     ]
    },
    {
     "name": "stderr",
     "output_type": "stream",
     "text": [
      "Downloading chunk 6 of 8 (20 files, size = 84.726816 MB) as Fri_Jun_20_07_52_30_2025_5.tar.gz\n",
      "\n"
     ]
    },
    {
     "name": "stdout",
     "output_type": "stream",
     "text": [
      "Downloading: 22 MB      "
     ]
    },
    {
     "name": "stderr",
     "output_type": "stream",
     "text": [
      "Downloading chunk 7 of 8 (20 files, size = 84.765898 MB) as Fri_Jun_20_07_52_30_2025_6.tar.gz\n",
      "\n"
     ]
    },
    {
     "name": "stdout",
     "output_type": "stream",
     "text": [
      "Downloading: 22 MB      "
     ]
    },
    {
     "name": "stderr",
     "output_type": "stream",
     "text": [
      "Downloading chunk 8 of 8 (11 files, size = 46.62319 MB) as Fri_Jun_20_07_52_30_2025_7.tar.gz\n",
      "\n"
     ]
    },
    {
     "name": "stdout",
     "output_type": "stream",
     "text": [
      "Completed after 4 s =================================|100%                      \n"
     ]
    },
    {
     "name": "stderr",
     "output_type": "stream",
     "text": [
      "Starting to add information to samples\n",
      "\n",
      " => Add clinical information to samples\n",
      "\n",
      " => Adding TCGA molecular information from marker papers\n",
      "\n",
      " => Information will have prefix 'paper_' \n",
      "\n",
      "Available assays in SummarizedExperiment : \n",
      "  => unstranded\n",
      "  => stranded_first\n",
      "  => stranded_second\n",
      "  => tpm_unstrand\n",
      "  => fpkm_unstrand\n",
      "  => fpkm_uq_unstrand\n",
      "\n",
      "Warning message in coxph.fit(X, Y, istrat, offset, init, control, weights = weights, :\n",
      "“Loglik converged before variable  1 ; coefficient may be infinite. ”\n",
      "Warning message in coxph.fit(X, Y, istrat, offset, init, control, weights = weights, :\n",
      "“Loglik converged before variable  1 ; coefficient may be infinite. ”\n"
     ]
    },
    {
     "name": "stdout",
     "output_type": "stream",
     "text": [
      "=> Finished TCGA-LAML \n"
     ]
    }
   ],
   "source": [
    "# Loop through each TCGA project\n",
    "for (project in tcga_projects) {\n",
    "  cat(\"Processing\", project, \"...\\n\")\n",
    "  output_file <- paste0(project, \"_protein_coding_cox.tsv\")\n",
    "  rds_file <- paste0(project, \"_summarized.rds\")\n",
    "\n",
    "  if (file.exists(output_file)) {\n",
    "    cat(\"=> Skipping\", project, \"- output exists\\n\")\n",
    "    next\n",
    "  }\n",
    "\n",
    "  tryCatch({\n",
    "    # Step 1: Query & download data\n",
    "    query <- GDCquery(\n",
    "      project = project,\n",
    "      data.category = \"Transcriptome Profiling\",\n",
    "      data.type = \"Gene Expression Quantification\",\n",
    "      workflow.type = \"STAR - Counts\",\n",
    "      sample.type = \"Primary Blood Derived Cancer - Peripheral Blood\"\n",
    "    )\n",
    "    GDCdownload(query, method = \"api\", files.per.chunk = 20)\n",
    "    data <- GDCprepare(query, summarizedExperiment = TRUE)\n",
    "    saveRDS(data, rds_file)\n",
    "\n",
    "    # Step 2: Extract and clean expression data\n",
    "    counts <- assay(data)\n",
    "    rownames(counts) <- gsub(\"\\\\..*\", \"\", rownames(counts))  # Remove version numbers\n",
    "\n",
    "    # Step 3: Map Ensembl IDs to Gene Symbols\n",
    "    gene_map <- getBM(attributes = c(\"ensembl_gene_id\", \"external_gene_name\"),\n",
    "                      filters = \"ensembl_gene_id\",\n",
    "                      values = rownames(counts),\n",
    "                      mart = ensembl)\n",
    "    gene_map <- gene_map[gene_map$external_gene_name %in% protein_coding_genes, ]\n",
    "    gene_map <- gene_map[!duplicated(gene_map$ensembl_gene_id), ]\n",
    "    rownames(gene_map) <- gene_map$ensembl_gene_id\n",
    "\n",
    "    # Step 4: Filter to protein-coding genes\n",
    "    counts <- counts[rownames(counts) %in% rownames(gene_map), ]\n",
    "    gene_symbols <- gene_map[rownames(counts), \"external_gene_name\"]\n",
    "\n",
    "    # Step 5: Get gene lengths and compute log(TPM + 1)\n",
    "    gene_lengths <- getBM(attributes = c(\"ensembl_gene_id\", \"transcript_length\"),\n",
    "                          filters = \"ensembl_gene_id\",\n",
    "                          values = rownames(counts),\n",
    "                          mart = ensembl)\n",
    "    gene_lengths <- aggregate(transcript_length ~ ensembl_gene_id, gene_lengths, median)\n",
    "    rownames(gene_lengths) <- gene_lengths$ensembl_gene_id\n",
    "\n",
    "    # Align lengths with counts\n",
    "    gene_lengths_vec <- gene_lengths[rownames(counts), \"transcript_length\"]\n",
    "    keep <- !is.na(gene_lengths_vec)\n",
    "    counts <- counts[keep, ]\n",
    "    gene_lengths_vec <- gene_lengths_vec[keep]\n",
    "\n",
    "    # Compute TPM\n",
    "    tpm_expr <- counts_to_tpm(counts, gene_lengths_vec)\n",
    "\n",
    "    # Rename rows with gene symbols\n",
    "    rownames(tpm_expr) <- gene_map[rownames(tpm_expr), \"external_gene_name\"]\n",
    "\n",
    "    # Step 6: Process clinical data\n",
    "    clin <- colData(data)\n",
    "    clin$OS.time <- ifelse(is.na(clin$days_to_death), clin$days_to_last_follow_up, clin$days_to_death)\n",
    "    clin$OS <- ifelse(is.na(clin$days_to_death), 0, 1)\n",
    "    clin$age <- as.numeric(clin$age_at_diagnosis)\n",
    "    clin$gender <- as.factor(clin$gender)\n",
    "\n",
    "    # Step 7: Match expression and clinical samples\n",
    "    keep_samples <- which(!is.na(clin$OS.time) & !is.na(clin$OS) & !is.na(clin$age) & !is.na(clin$gender))\n",
    "    clin <- clin[keep_samples, ]\n",
    "    tpm_expr <- tpm_expr[, keep_samples]\n",
    "\n",
    "    # Match sample order\n",
    "    common_samples <- intersect(colnames(tpm_expr), rownames(clin))\n",
    "    clin <- clin[common_samples, ]\n",
    "    tpm_expr <- tpm_expr[, common_samples]\n",
    "\n",
    "    # Step 8: Run Cox regression\n",
    "    res <- run_cox_analysis(tpm_expr, clin)\n",
    "\n",
    "    # Step 9: Save results\n",
    "    write.table(res, file = output_file, sep = \"\\t\", row.names = FALSE, quote = FALSE)\n",
    "    cat(\"=> Finished\", project, \"\\n\")\n",
    "\n",
    "  }, error = function(e) {\n",
    "    cat(\"!! Error processing\", project, \":\", e$message, \"\\n\")\n",
    "  })\n",
    "}"
   ]
  },
  {
   "cell_type": "code",
   "execution_count": null,
   "id": "bc9d7362-2577-4086-83ad-6c076beac6b7",
   "metadata": {},
   "outputs": [],
   "source": []
  },
  {
   "cell_type": "code",
   "execution_count": null,
   "id": "8aee2819-d3ed-4152-a0a2-3516eedf7bdc",
   "metadata": {},
   "outputs": [],
   "source": []
  }
 ],
 "metadata": {
  "kernelspec": {
   "display_name": "R",
   "language": "R",
   "name": "ir"
  },
  "language_info": {
   "codemirror_mode": "r",
   "file_extension": ".r",
   "mimetype": "text/x-r-source",
   "name": "R",
   "pygments_lexer": "r",
   "version": "4.3.3"
  }
 },
 "nbformat": 4,
 "nbformat_minor": 5
}
