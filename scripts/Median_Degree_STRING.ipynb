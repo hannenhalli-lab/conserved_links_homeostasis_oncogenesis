{
 "cells": [
  {
   "cell_type": "code",
   "execution_count": null,
   "id": "b74cc47a-7035-4707-942a-d43a98d1511f",
   "metadata": {},
   "outputs": [],
   "source": [
    "######## Code for checking the degree threshold using wieghted network. This was done to check Annans result ###\n",
    "\n",
    "import pandas as pd\n",
    "import networkx as nx\n",
    "import numpy as np\n",
    "from tqdm import tqdm\n",
    "\n",
    "# Step 1: Load the STRING links file\n",
    "df = pd.read_csv(\"/Users/piyushagrawal/Downloads/Annan_Project/Briefings_paper/STRING_work/9606.protein.links.v11.5.txt.gz\", sep=\" \")\n",
    "\n",
    "# Step 2: Create graph (inverse weights: stronger interaction = shorter path)\n",
    "G = nx.Graph()\n",
    "for _, row in df.iterrows():\n",
    "    p1 = row[\"protein1\"]\n",
    "    p2 = row[\"protein2\"]\n",
    "    score = row[\"combined_score\"]\n",
    "    weight = 1000 - score  # inverse for shortest path\n",
    "    G.add_edge(p1, p2, weight=weight)\n",
    "\n",
    "# Step 3: Compute shortest paths (only consider connected pairs)\n",
    "print(\"Computing shortest paths...\")\n",
    "lengths = []\n",
    "for source in tqdm(G.nodes()):\n",
    "    path_lengths = nx.single_source_dijkstra_path_length(G, source, weight=\"weight\")\n",
    "    lengths.extend(path_lengths.values())\n",
    "\n",
    "# Step 4: Compute median (exclude self-paths = 0)\n",
    "filtered_lengths = [l for l in lengths if l > 0]\n",
    "median_length = np.median(filtered_lengths)\n",
    "\n",
    "\n",
    "print(f\"\\nMedian shortest path length: {median_length:.2f}\")\n"
   ]
  },
  {
   "cell_type": "code",
   "execution_count": null,
   "id": "06303f4f-069a-4274-85c5-2ca0e2f3683a",
   "metadata": {},
   "outputs": [],
   "source": []
  },
  {
   "cell_type": "code",
   "execution_count": null,
   "id": "46b43ea4-ac41-4de8-9e16-357bba1905b1",
   "metadata": {},
   "outputs": [],
   "source": [
    "######## Code for checking the degree threshold using unwieghted network. This was done to check Annans result ###\n",
    "\n",
    "import pandas as pd\n",
    "import networkx as nx\n",
    "import numpy as np\n",
    "import random\n",
    "from tqdm import tqdm\n",
    "\n",
    "# Step 1: Load STRING network file\n",
    "df = pd.read_csv(\"/Users/piyushagrawal/Downloads/Annan_Project/Briefings_paper/STRING_work/9606.protein.links.v11.5.txt.gz\", sep=\" \")\n",
    "\n",
    "# Step 2: Build unweighted graph\n",
    "G = nx.Graph()\n",
    "G.add_edges_from(zip(df['protein1'], df['protein2']))\n",
    "\n",
    "# Step 3: Keep only largest connected component (LCC)\n",
    "largest_cc = max(nx.connected_components(G), key=len)\n",
    "G_lcc = G.subgraph(largest_cc).copy()\n",
    "\n",
    "# Step 4: Sample nodes to speed up\n",
    "sample_size = 2000\n",
    "sample_nodes = random.sample(list(G_lcc.nodes), sample_size)\n",
    "\n",
    "# Step 5: Compute shortest path lengths (unweighted)\n",
    "all_path_lengths = []\n",
    "for node in tqdm(sample_nodes, desc=\"Computing shortest paths\"):\n",
    "    lengths = nx.single_source_shortest_path_length(G_lcc, node)\n",
    "    all_path_lengths.extend([l for l in lengths.values() if l > 0])  # exclude self-distances\n",
    "\n",
    "# Step 6: Compute median\n",
    "median_d = int(np.median(all_path_lengths))\n",
    "print(f\"\\nEstimated median shortest path length (d): {median_d}\")"
   ]
  }
 ],
 "metadata": {
  "kernelspec": {
   "display_name": "Python 3 (ipykernel)",
   "language": "python",
   "name": "python3"
  },
  "language_info": {
   "codemirror_mode": {
    "name": "ipython",
    "version": 3
   },
   "file_extension": ".py",
   "mimetype": "text/x-python",
   "name": "python",
   "nbconvert_exporter": "python",
   "pygments_lexer": "ipython3",
   "version": "3.12.2"
  }
 },
 "nbformat": 4,
 "nbformat_minor": 5
}
