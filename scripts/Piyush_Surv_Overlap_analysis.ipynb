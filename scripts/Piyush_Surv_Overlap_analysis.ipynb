{
 "cells": [
  {
   "cell_type": "code",
   "execution_count": null,
   "id": "8be3daed-0d95-4482-b8c6-a98ccdba2b55",
   "metadata": {},
   "outputs": [],
   "source": [
    "# Load required libraries\n",
    "library(tidyverse)\n",
    "library(pheatmap)\n",
    "library(dplyr)\n",
    "library(ggplot2)"
   ]
  },
  {
   "cell_type": "code",
   "execution_count": null,
   "id": "c61b6ef1-e028-4e2f-8c78-b4994ce1d904",
   "metadata": {},
   "outputs": [],
   "source": [
    "# Set input/output directories\n",
    "cox_dir <- \"~/Downloads/Annan_Project/Survival/TCGA_cancer_protcod/\"\n",
    "swr_dir <- \"~/Downloads/Annan_Project/Survival/TCGA_cancer_protcod/HP_genesets/\"\n",
    "out_dir <- \"~/Downloads/Annan_Project/Survival/TCGA_cancer_protcod/results\"\n",
    "dir.create(out_dir, showWarnings = FALSE)"
   ]
  },
  {
   "cell_type": "code",
   "execution_count": null,
   "id": "f62a02c2-25c0-48f9-8273-43d8d7dd0009",
   "metadata": {},
   "outputs": [],
   "source": [
    "# Load SWR gene sets (convert to uppercase)\n",
    "swr_files <- list.files(swr_dir, pattern = \"\\\\.txt$\", full.names = TRUE)\n",
    "swr_sets <- setNames(lapply(swr_files, function(f) {\n",
    "  toupper(trimws(scan(f, what = \"\", quiet = TRUE)))\n",
    "}), tools::file_path_sans_ext(basename(swr_files)))"
   ]
  },
  {
   "cell_type": "code",
   "execution_count": null,
   "id": "371feba1-3456-4b5a-85a6-1db23adc22e9",
   "metadata": {},
   "outputs": [],
   "source": [
    "# Fisher’s enrichment function\n",
    "compute_enrichment <- function(gene_list, background, swr_sets) {\n",
    "  lapply(swr_sets, function(swr_genes) {\n",
    "    swr_genes <- intersect(swr_genes, background)\n",
    "    a <- length(intersect(gene_list, swr_genes))\n",
    "    b <- length(setdiff(gene_list, swr_genes))\n",
    "    c <- length(setdiff(swr_genes, gene_list))\n",
    "    d <- length(setdiff(background, union(gene_list, swr_genes)))\n",
    "    m <- matrix(c(a, b, c, d), nrow = 2)\n",
    "    fisher <- fisher.test(m)\n",
    "    return(data.frame(pval = fisher$p.value, odds = fisher$estimate))\n",
    "  }) %>% bind_rows(.id = \"GeneSet\")\n",
    "}"
   ]
  },
  {
   "cell_type": "code",
   "execution_count": null,
   "id": "febce64a-2ba6-48a1-b892-7f6b75d33f2b",
   "metadata": {},
   "outputs": [],
   "source": [
    "# Process Cox files\n",
    "cox_files <- list.files(cox_dir, pattern = \"_protein_coding_cox.tsv$\", full.names = TRUE)\n",
    "sig_counts <- data.frame()\n",
    "hazard_enrichment <- list()\n",
    "protective_enrichment <- list()\n",
    "\n",
    "for (file in cox_files) {\n",
    "  cancer <- gsub(\"_protein_coding_cox.tsv\", \"\", basename(file))\n",
    "  df <- read.delim(file)\n",
    "  df$Gene <- toupper(trimws(df$Gene))\n",
    "\n",
    "  sig_df <- df %>% filter(FDR <= 0.05)\n",
    "  sig_count <- nrow(sig_df)\n",
    "  sig_counts <- rbind(sig_counts, data.frame(Cancer = cancer, SignificantGenes = sig_count))\n",
    "\n",
    "  if (sig_count < 50) next\n",
    "\n",
    "  background <- df$Gene\n",
    "\n",
    "  top_hazard <- sig_df %>% filter(HR > 1) %>% arrange(desc(HR)) %>% pull(Gene) %>% head(5000)\n",
    "  hazard_enrichment[[cancer]] <- compute_enrichment(top_hazard, background, swr_sets)\n",
    "\n",
    "  top_protective <- sig_df %>% filter(HR < 1) %>% arrange(HR) %>% pull(Gene) %>% head(5000)\n",
    "  protective_enrichment[[cancer]] <- compute_enrichment(top_protective, background, swr_sets)\n",
    "}"
   ]
  },
  {
   "cell_type": "code",
   "execution_count": null,
   "id": "a7ec125d-f6bd-4fd1-b440-1b8a68ac31df",
   "metadata": {},
   "outputs": [],
   "source": [
    "# Save significant gene counts\n",
    "write.table(sig_counts, file = file.path(out_dir, \"significant_gene_counts.tsv\"),\n",
    "            sep = \"\\t\", row.names = FALSE, quote = FALSE)"
   ]
  },
  {
   "cell_type": "code",
   "execution_count": null,
   "id": "867e10b6-5048-4fcf-a7dd-1118e1d8da51",
   "metadata": {},
   "outputs": [],
   "source": [
    "# Convert enrichment lists to matrix\n",
    "to_matrix <- function(enrichment_list, value = \"odds\", pcut = 0.05) {\n",
    "  all_cancers <- names(enrichment_list)\n",
    "  all_genesets <- names(swr_sets)\n",
    "\n",
    "  mat <- matrix(NA, nrow = length(all_cancers), ncol = length(all_genesets))\n",
    "  rownames(mat) <- all_cancers\n",
    "  colnames(mat) <- all_genesets\n",
    "\n",
    "  for (cancer in all_cancers) {\n",
    "    enrich <- enrichment_list[[cancer]]\n",
    "    if (is.null(enrich)) next\n",
    "    for (gs in enrich$GeneSet) {\n",
    "      row <- which(rownames(mat) == cancer)\n",
    "      col <- which(colnames(mat) == gs)\n",
    "      if (enrich[enrich$GeneSet == gs, \"pval\"] < pcut) {\n",
    "        mat[row, col] <- enrich[enrich$GeneSet == gs, value]\n",
    "      }\n",
    "    }\n",
    "  }\n",
    "  return(mat)\n",
    "}"
   ]
  },
  {
   "cell_type": "code",
   "execution_count": null,
   "id": "787fc198-61f6-47e7-9d9d-7ba49df7a25d",
   "metadata": {},
   "outputs": [],
   "source": [
    "# Heatmap plotting function (custom colors and layout)\n",
    "plot_heatmap <- function(mat, title, file_name, order_cols = NULL, color_palette = NULL) {\n",
    "  mat <- mat[rowSums(!is.na(mat)) > 0, colSums(!is.na(mat)) > 0]\n",
    "  if (nrow(mat) < 1 || ncol(mat) < 1) {\n",
    "    message(\"⚠️ Not enough data for heatmap: \", title)\n",
    "    return(NULL)\n",
    "  }\n",
    "\n",
    "  if (!is.null(order_cols)) {\n",
    "    mat <- mat[, intersect(order_cols, colnames(mat))]\n",
    "  }\n",
    "\n",
    "  breaks <- c(0, 1, 2, 3, 4, 5)\n",
    "  colors <- colorRampPalette(color_palette)(length(breaks) - 1)\n",
    "\n",
    "  pdf(file = file.path(out_dir, file_name), width = 12, height = 10)\n",
    "  pheatmap(mat,\n",
    "           cluster_rows = FALSE,\n",
    "           cluster_cols = FALSE,\n",
    "           color = colors,\n",
    "           breaks = breaks,\n",
    "           na_col = \"grey90\",\n",
    "           fontsize = 14,\n",
    "           main = title)\n",
    "  dev.off()\n",
    "}"
   ]
  },
  {
   "cell_type": "code",
   "execution_count": null,
   "id": "7b9948e4-70d9-4c16-b398-201983ae22e3",
   "metadata": {},
   "outputs": [],
   "source": [
    "# Generate enrichment matrices\n",
    "save_enrichment(protective_enrichment, \"All_protective_fisher_results.tsv\")\n",
    "hazard_mat <- to_matrix(hazard_enrichment, value = \"odds\")\n",
    "protective_mat <- to_matrix(protective_enrichment, value = \"odds\")"
   ]
  },
  {
   "cell_type": "code",
   "execution_count": null,
   "id": "11d28b0d-21d8-434e-aad8-9932009082f3",
   "metadata": {},
   "outputs": [],
   "source": [
    "# Save matrices\n",
    "write.table(hazard_mat, file = file.path(out_dir, \"hazard_OR_matrix.tsv\"),sep = \"\\t\", quote = FALSE, col.names = NA)\n",
    "write.table(protective_mat, file = file.path(out_dir, \"protective_OR_matrix.tsv\"),sep = \"\\t\", quote = FALSE, col.names = NA)"
   ]
  },
  {
   "cell_type": "code",
   "execution_count": null,
   "id": "9090a088-f26a-4228-b70c-622e7e7766c5",
   "metadata": {},
   "outputs": [],
   "source": [
    "# Optional: Set gene set order (or leave NULL)\n",
    "gene_set_order <- colnames(hazard_mat)\n",
    "\n",
    "# Define color palettes\n",
    "hazard_colors <- c(\"white\", \"lightblue\", \"blue\")\n",
    "protective_colors <- c(\"white\", \"lightsalmon\", \"orange\")"
   ]
  },
  {
   "cell_type": "code",
   "execution_count": null,
   "id": "89403e72-a67d-43f3-b380-8ef5ef5e0da9",
   "metadata": {},
   "outputs": [],
   "source": [
    "# Plot heatmaps\n",
    "plot_heatmap(hazard_mat, \"Hazard Enrichment (OR)\", \"hazard_enrichment_heatmap.pdf\",\n",
    "             order_cols = gene_set_order, color_palette = hazard_colors)\n",
    "plot_heatmap(protective_mat, \"Protective Enrichment (OR)\", \"protective_enrichment_heatmap.pdf\",\n",
    "             order_cols = gene_set_order, color_palette = protective_colors)"
   ]
  },
  {
   "cell_type": "code",
   "execution_count": null,
   "id": "49d393ca-1160-4999-8660-da8ee1e96fc8",
   "metadata": {},
   "outputs": [],
   "source": [
    "# Save full enrichment result tables\n",
    "save_enrichment <- function(list_obj, file_name) {\n",
    "    out <- bind_rows(lapply(names(list_obj), function(cancer) {\n",
    "        df <- list_obj[[cancer]]\n",
    "        if (!is.null(df)) df$Cancer <- cancer\n",
    "        df\n",
    "    }))\n",
    "    \n",
    "    write.table(\n",
    "        out,\n",
    "        file = file.path(out_dir, file_name),\n",
    "        sep = \"\\t\",\n",
    "        row.names = FALSE,\n",
    "        quote = FALSE\n",
    "    )\n",
    "}\n",
    "\n",
    "# Save hazard and protective enrichment results\n",
    "save_enrichment(hazard_enrichment, \"All_hazard_fisher_results.tsv\")\n",
    "save_enrichment(protective_enrichment, \"All_protective_fisher_results.tsv\")"
   ]
  },
  {
   "cell_type": "code",
   "execution_count": null,
   "id": "abe391a1-f10a-4afa-8167-ae324a7f2855",
   "metadata": {},
   "outputs": [],
   "source": []
  }
 ],
 "metadata": {
  "kernelspec": {
   "display_name": "R",
   "language": "R",
   "name": "ir"
  },
  "language_info": {
   "codemirror_mode": "r",
   "file_extension": ".r",
   "mimetype": "text/x-r-source",
   "name": "R",
   "pygments_lexer": "r",
   "version": "4.3.3"
  }
 },
 "nbformat": 4,
 "nbformat_minor": 5
}
