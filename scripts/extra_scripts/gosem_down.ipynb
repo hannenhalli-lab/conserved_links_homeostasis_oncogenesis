{
 "cells": [
  {
   "cell_type": "code",
   "execution_count": 3,
   "id": "01c914ac",
   "metadata": {},
   "outputs": [
    {
     "name": "stderr",
     "output_type": "stream",
     "text": [
      "preparing gene to GO mapping data...\n",
      "\n"
     ]
    }
   ],
   "source": [
    "library(BiocManager)\n",
    "library(GOSemSim)\n",
    "\n",
    "wrs_list <- readRDS(\"wrs_list.rds\")\n",
    "recurrent_wrs_list <- readRDS(\"recurrent_wrs_list.rds\")\n",
    "\n",
    "d <- godata('org.Hs.eg.db', ont=\"MF\", computeIC=FALSE)\n",
    "\n",
    "wrs_down_simsem <- mclusterSim(wrs_list[[\"downregulated\"]], semData=d, measure=\"Wang\", combine=\"rcmax\")"
   ]
  },
  {
   "cell_type": "code",
   "execution_count": 2,
   "id": "2e9adb21",
   "metadata": {},
   "outputs": [],
   "source": [
    "saveRDS(wrs_down_simsem, \"wrs_down_simsem\")"
   ]
  },
  {
   "cell_type": "code",
   "execution_count": null,
   "id": "74d3735b",
   "metadata": {},
   "outputs": [],
   "source": []
  }
 ],
 "metadata": {
  "kernelspec": {
   "display_name": "R/4.0",
   "language": "R",
   "name": "ir40"
  },
  "toc": {
   "base_numbering": 1,
   "nav_menu": {},
   "number_sections": true,
   "sideBar": true,
   "skip_h1_title": false,
   "title_cell": "Table of Contents",
   "title_sidebar": "Contents",
   "toc_cell": false,
   "toc_position": {},
   "toc_section_display": true,
   "toc_window_display": false
  }
 },
 "nbformat": 4,
 "nbformat_minor": 5
}
