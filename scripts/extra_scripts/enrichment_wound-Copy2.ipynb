{
 "cells": [
  {
   "cell_type": "code",
   "execution_count": null,
   "id": "a28d287f",
   "metadata": {},
   "outputs": [],
   "source": [
    "source(\"./enrichment_functions.R\")"
   ]
  },
  {
   "cell_type": "code",
   "execution_count": 2,
   "id": "441c1f43",
   "metadata": {},
   "outputs": [],
   "source": [
    "files <-list.files(\"./geo_degs\")\n",
    "wound_files <- files[grep(\"^[a-z].*wound.*\", files)]"
   ]
  },
  {
   "cell_type": "code",
   "execution_count": null,
   "id": "e63edb9c",
   "metadata": {},
   "outputs": [],
   "source": [
    "#stress_HALLMARK <- get_enrichment_data(stress_files, \"HALLMARK\", \"./geo_degs/\")\n",
    "#saveRDS(stress_HALLMARK, \"stress_hallmark.RDS\")\n",
    "#stress_KEGG <- get_enrichment_data(stress_files, \"KEGG\", \"./geo_degs/\")\n",
    "#saveRDS(stress_KEGG, \"stress_kegg.RDS\")\n",
    "#stress_C4 <- get_enrichment_data(stress_files, \"C4\", \"./geo_degs/\")\n",
    "#saveRDS(stress_C4, \"stress_C4.RDS\")\n",
    "wound_GO <- get_enrichment_data(wound_files, \"GO\", \"./geo_degs/\")\n",
    "saveRDS(wound_GO, \"wound_GO.RDS\")"
   ]
  },
  {
   "cell_type": "code",
   "execution_count": null,
   "id": "574b6ba6",
   "metadata": {},
   "outputs": [],
   "source": []
  }
 ],
 "metadata": {
  "kernelspec": {
   "display_name": "R/4.1",
   "language": "R",
   "name": "ir41"
  },
  "language_info": {
   "codemirror_mode": "r",
   "file_extension": ".r",
   "mimetype": "text/x-r-source",
   "name": "R",
   "pygments_lexer": "r",
   "version": "4.1.3"
  },
  "toc": {
   "base_numbering": 1,
   "nav_menu": {},
   "number_sections": true,
   "sideBar": true,
   "skip_h1_title": false,
   "title_cell": "Table of Contents",
   "title_sidebar": "Contents",
   "toc_cell": false,
   "toc_position": {},
   "toc_section_display": true,
   "toc_window_display": false
  }
 },
 "nbformat": 4,
 "nbformat_minor": 5
}
