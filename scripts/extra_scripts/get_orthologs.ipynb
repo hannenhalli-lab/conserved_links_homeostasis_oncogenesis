{
 "cells": [
  {
   "cell_type": "code",
   "execution_count": 1,
   "id": "1807dc21",
   "metadata": {},
   "outputs": [
    {
     "name": "stderr",
     "output_type": "stream",
     "text": [
      "Bioconductor version '3.12' is out-of-date; the current release version '3.14'\n",
      "  is available with R version '4.1'; see https://bioconductor.org/install\n",
      "\n"
     ]
    }
   ],
   "source": [
    "library(BiocManager)\n",
    "library(biomaRt)\n",
    "library(data.table)"
   ]
  },
  {
   "cell_type": "code",
   "execution_count": 24,
   "id": "bb51c430",
   "metadata": {},
   "outputs": [
    {
     "data": {
      "text/plain": [
       "[1] ‘2.46.3’"
      ]
     },
     "metadata": {},
     "output_type": "display_data"
    }
   ],
   "source": [
    "packageVersion(\"biomaRt\")"
   ]
  },
  {
   "cell_type": "code",
   "execution_count": 22,
   "id": "6a6d63ac",
   "metadata": {},
   "outputs": [
    {
     "name": "stderr",
     "output_type": "stream",
     "text": [
      "'getOption(\"repos\")' replaces Bioconductor standard repositories, see\n",
      "'?repositories' for details\n",
      "\n",
      "replacement repositories:\n",
      "    CRAN: https://cran.r-project.org\n",
      "\n",
      "\n",
      "Bioconductor version 3.12 (BiocManager 1.30.16), R 4.0.5 (2021-03-31)\n",
      "\n",
      "Installing github package(s) 'grimbough/biomaRt'\n",
      "\n",
      "Downloading GitHub repo grimbough/biomaRt@RELEASE_3_14\n",
      "\n"
     ]
    },
    {
     "name": "stdout",
     "output_type": "stream",
     "text": [
      "R6         (2.5.0    -> 2.5.1   ) [CRAN]\n",
      "openssl    (1.4.4    -> 2.0.0   ) [CRAN]\n",
      "mime       (0.11     -> 0.12    ) [CRAN]\n",
      "jsonlite   (1.7.2    -> 1.8.0   ) [CRAN]\n",
      "utf8       (1.2.1    -> 1.2.2   ) [CRAN]\n",
      "fansi      (0.5.0    -> 1.0.3   ) [CRAN]\n",
      "crayon     (1.4.1    -> 1.5.1   ) [CRAN]\n",
      "cli        (3.0.0    -> 3.2.0   ) [CRAN]\n",
      "pillar     (1.6.1    -> 1.7.0   ) [CRAN]\n",
      "vctrs      (0.3.8    -> 0.4.1   ) [CRAN]\n",
      "tidyselect (1.1.1    -> 1.1.2   ) [CRAN]\n",
      "tibble     (3.1.2    -> 3.1.6   ) [CRAN]\n",
      "rlang      (0.4.11   -> 1.0.2   ) [CRAN]\n",
      "magrittr   (2.0.1    -> 2.0.3   ) [CRAN]\n",
      "lifecycle  (1.0.0    -> 1.0.1   ) [CRAN]\n",
      "glue       (1.4.2    -> 1.6.2   ) [CRAN]\n",
      "generics   (0.1.0    -> 0.1.2   ) [CRAN]\n",
      "withr      (2.4.2    -> 2.5.0   ) [CRAN]\n",
      "dplyr      (1.0.7    -> 1.0.8   ) [CRAN]\n",
      "DBI        (1.1.1    -> 1.1.2   ) [CRAN]\n",
      "blob       (1.2.1    -> 1.2.3   ) [CRAN]\n",
      "cachem     (1.0.5    -> 1.0.6   ) [CRAN]\n",
      "Rcpp       (1.0.6    -> 1.0.8.3 ) [CRAN]\n",
      "memoise    (2.0.0    -> 2.0.1   ) [CRAN]\n",
      "RSQLite    (2.2.7    -> 2.2.12  ) [CRAN]\n",
      "stringi    (1.6.2    -> 1.7.6   ) [CRAN]\n",
      "hms        (1.1.0    -> 1.1.1   ) [CRAN]\n",
      "xml2       (1.3.2    -> 1.3.3   ) [CRAN]\n",
      "digest     (0.6.27   -> 0.6.29  ) [CRAN]\n",
      "XML        (3.99-0.6 -> 3.99-0.9) [CRAN]\n"
     ]
    },
    {
     "name": "stderr",
     "output_type": "stream",
     "text": [
      "Installing 30 packages: R6, openssl, mime, jsonlite, utf8, fansi, crayon, cli, pillar, vctrs, tidyselect, tibble, rlang, magrittr, lifecycle, glue, generics, withr, dplyr, DBI, blob, cachem, Rcpp, memoise, RSQLite, stringi, hms, xml2, digest, XML\n",
      "\n",
      "Warning message in i.p(...):\n",
      "“'lib = \"/usr/local/apps/R/4.0/site-library_4.0.5\"' is not writable”\n"
     ]
    },
    {
     "ename": "ERROR",
     "evalue": "Error: Failed to install 'biomaRt' from GitHub:\n  unable to install packages\n",
     "output_type": "error",
     "traceback": [
      "Error: Failed to install 'biomaRt' from GitHub:\n  unable to install packages\nTraceback:\n",
      "1. BiocManager::install(\"grimbough/biomaRt\", ref = \"RELEASE_3_14\")",
      "2. .install(pkgs, vout[[\"out_of_date\"]], instPkgs = inst, repos = repos, \n .     checkBuilt = checkBuilt, force = force, ...)",
      "3. .install_github(todo, lib = lib, lib.loc = lib.loc, repos = repos, \n .     force = force, ...)",
      "4. remotes::install_github(repo, lib = lib, force = force, ...)",
      "5. install_remotes(remotes, auth_token = auth_token, host = host, \n .     dependencies = dependencies, upgrade = upgrade, force = force, \n .     quiet = quiet, build = build, build_opts = build_opts, build_manual = build_manual, \n .     build_vignettes = build_vignettes, repos = repos, type = type, \n .     ...)",
      "6. tryCatch(res[[i]] <- install_remote(remotes[[i]], ...), error = function(e) {\n .     stop(remote_install_error(remotes[[i]], e))\n . })",
      "7. tryCatchList(expr, classes, parentenv, handlers)",
      "8. tryCatchOne(expr, names, parentenv, handlers[[1L]])",
      "9. value[[3L]](cond)"
     ]
    }
   ],
   "source": [
    "BiocManager::install('grimbough/biomaRt', ref = 'RELEASE_3_14')"
   ]
  },
  {
   "cell_type": "code",
   "execution_count": 2,
   "id": "859feaf3",
   "metadata": {},
   "outputs": [],
   "source": [
    "background_set <- fread(\"background_set.txt\")"
   ]
  },
  {
   "cell_type": "code",
   "execution_count": 19,
   "id": "b040b9fd",
   "metadata": {},
   "outputs": [],
   "source": [
    "ensembl <- useEnsembl(biomart = \"ensembl\", mirror = \"www\")\n",
    "human = useDataset(\"hsapiens_gene_ensembl\", mart=ensembl)\n",
    "mouse = useDataset(\"mmusculus_gene_ensembl\", mart=ensembl)"
   ]
  },
  {
   "cell_type": "code",
   "execution_count": 23,
   "id": "1e795602",
   "metadata": {},
   "outputs": [
    {
     "ename": "ERROR",
     "evalue": "Error: biomaRt has encountered an unexpected server error.\nConsider trying one of the Ensembl mirrors (for more details look at ?useEnsembl)\n",
     "output_type": "error",
     "traceback": [
      "Error: biomaRt has encountered an unexpected server error.\nConsider trying one of the Ensembl mirrors (for more details look at ?useEnsembl)\nTraceback:\n",
      "1. getLDS(attributes = c(\"hgnc_symbol\"), filters = \"hgnc_symbol\", \n .     values = head(background_set$gene), mart = human, attributesL = c(\"ensembl_gene_id\"), \n .     martL = mouse)",
      "2. .submitQueryXML(host = paste0(martHost(mart), sep), query = xmlQuery)",
      "3. stop(err_msg, call. = FALSE)"
     ]
    }
   ],
   "source": [
    "getLDS(attributes = c(\"hgnc_symbol\"), filters=\"hgnc_symbol\",\n",
    "       values=head(background_set$gene),\n",
    "                   mart=human,attributesL=c(\"ensembl_gene_id\"), martL=mouse)"
   ]
  },
  {
   "cell_type": "code",
   "execution_count": 11,
   "id": "e6dd9602",
   "metadata": {},
   "outputs": [
    {
     "data": {
      "text/html": [
       "<table class=\"dataframe\">\n",
       "<caption>A data.frame: 25 × 3</caption>\n",
       "<thead>\n",
       "\t<tr><th></th><th scope=col>name</th><th scope=col>description</th><th scope=col>page</th></tr>\n",
       "\t<tr><th></th><th scope=col>&lt;chr&gt;</th><th scope=col>&lt;chr&gt;</th><th scope=col>&lt;chr&gt;</th></tr>\n",
       "</thead>\n",
       "<tbody>\n",
       "\t<tr><th scope=row>1150</th><td>dmelanogaster_homolog_ensembl_gene                </td><td>Drosophila melanogaster gene stable ID                          </td><td>homologs</td></tr>\n",
       "\t<tr><th scope=row>1151</th><td>dmelanogaster_homolog_associated_gene_name        </td><td>Drosophila melanogaster gene name                               </td><td>homologs</td></tr>\n",
       "\t<tr><th scope=row>1152</th><td>dmelanogaster_homolog_ensembl_peptide             </td><td>Drosophila melanogaster protein or transcript stable ID         </td><td>homologs</td></tr>\n",
       "\t<tr><th scope=row>1153</th><td>dmelanogaster_homolog_chromosome                  </td><td>Drosophila melanogaster chromosome/scaffold name                </td><td>homologs</td></tr>\n",
       "\t<tr><th scope=row>1154</th><td>dmelanogaster_homolog_chrom_start                 </td><td>Drosophila melanogaster chromosome/scaffold start (bp)          </td><td>homologs</td></tr>\n",
       "\t<tr><th scope=row>1155</th><td>dmelanogaster_homolog_chrom_end                   </td><td>Drosophila melanogaster chromosome/scaffold end (bp)            </td><td>homologs</td></tr>\n",
       "\t<tr><th scope=row>1156</th><td>dmelanogaster_homolog_canonical_transcript_protein</td><td>Query protein or transcript ID                                  </td><td>homologs</td></tr>\n",
       "\t<tr><th scope=row>1157</th><td>dmelanogaster_homolog_subtype                     </td><td>Last common ancestor with Drosophila melanogaster               </td><td>homologs</td></tr>\n",
       "\t<tr><th scope=row>1158</th><td>dmelanogaster_homolog_orthology_type              </td><td>Drosophila melanogaster homology type                           </td><td>homologs</td></tr>\n",
       "\t<tr><th scope=row>1159</th><td>dmelanogaster_homolog_perc_id                     </td><td>%id. target Drosophila melanogaster gene identical to query gene</td><td>homologs</td></tr>\n",
       "\t<tr><th scope=row>1160</th><td>dmelanogaster_homolog_perc_id_r1                  </td><td>%id. query gene identical to target Drosophila melanogaster gene</td><td>homologs</td></tr>\n",
       "\t<tr><th scope=row>1161</th><td>dmelanogaster_homolog_orthology_confidence        </td><td>Drosophila melanogaster orthology confidence [0 low, 1 high]    </td><td>homologs</td></tr>\n",
       "\t<tr><th scope=row>1300</th><td>amelanoleuca_homolog_ensembl_gene                 </td><td>Giant panda gene stable ID                                      </td><td>homologs</td></tr>\n",
       "\t<tr><th scope=row>1301</th><td>amelanoleuca_homolog_associated_gene_name         </td><td>Giant panda gene name                                           </td><td>homologs</td></tr>\n",
       "\t<tr><th scope=row>1302</th><td>amelanoleuca_homolog_ensembl_peptide              </td><td>Giant panda protein or transcript stable ID                     </td><td>homologs</td></tr>\n",
       "\t<tr><th scope=row>1303</th><td>amelanoleuca_homolog_chromosome                   </td><td>Giant panda chromosome/scaffold name                            </td><td>homologs</td></tr>\n",
       "\t<tr><th scope=row>1304</th><td>amelanoleuca_homolog_chrom_start                  </td><td>Giant panda chromosome/scaffold start (bp)                      </td><td>homologs</td></tr>\n",
       "\t<tr><th scope=row>1305</th><td>amelanoleuca_homolog_chrom_end                    </td><td>Giant panda chromosome/scaffold end (bp)                        </td><td>homologs</td></tr>\n",
       "\t<tr><th scope=row>1306</th><td>amelanoleuca_homolog_canonical_transcript_protein </td><td>Query protein or transcript ID                                  </td><td>homologs</td></tr>\n",
       "\t<tr><th scope=row>1307</th><td>amelanoleuca_homolog_subtype                      </td><td>Last common ancestor with Giant panda                           </td><td>homologs</td></tr>\n",
       "\t<tr><th scope=row>1308</th><td>amelanoleuca_homolog_orthology_type               </td><td>Giant panda homology type                                       </td><td>homologs</td></tr>\n",
       "\t<tr><th scope=row>1309</th><td>amelanoleuca_homolog_perc_id                      </td><td>%id. target Giant panda gene identical to query gene            </td><td>homologs</td></tr>\n",
       "\t<tr><th scope=row>1310</th><td>amelanoleuca_homolog_perc_id_r1                   </td><td>%id. query gene identical to target Giant panda gene            </td><td>homologs</td></tr>\n",
       "\t<tr><th scope=row>1311</th><td>amelanoleuca_homolog_goc_score                    </td><td>Giant panda Gene-order conservation score                       </td><td>homologs</td></tr>\n",
       "\t<tr><th scope=row>1312</th><td>amelanoleuca_homolog_orthology_confidence         </td><td>Giant panda orthology confidence [0 low, 1 high]                </td><td>homologs</td></tr>\n",
       "</tbody>\n",
       "</table>\n"
      ],
      "text/latex": [
       "A data.frame: 25 × 3\n",
       "\\begin{tabular}{r|lll}\n",
       "  & name & description & page\\\\\n",
       "  & <chr> & <chr> & <chr>\\\\\n",
       "\\hline\n",
       "\t1150 & dmelanogaster\\_homolog\\_ensembl\\_gene                 & Drosophila melanogaster gene stable ID                           & homologs\\\\\n",
       "\t1151 & dmelanogaster\\_homolog\\_associated\\_gene\\_name         & Drosophila melanogaster gene name                                & homologs\\\\\n",
       "\t1152 & dmelanogaster\\_homolog\\_ensembl\\_peptide              & Drosophila melanogaster protein or transcript stable ID          & homologs\\\\\n",
       "\t1153 & dmelanogaster\\_homolog\\_chromosome                   & Drosophila melanogaster chromosome/scaffold name                 & homologs\\\\\n",
       "\t1154 & dmelanogaster\\_homolog\\_chrom\\_start                  & Drosophila melanogaster chromosome/scaffold start (bp)           & homologs\\\\\n",
       "\t1155 & dmelanogaster\\_homolog\\_chrom\\_end                    & Drosophila melanogaster chromosome/scaffold end (bp)             & homologs\\\\\n",
       "\t1156 & dmelanogaster\\_homolog\\_canonical\\_transcript\\_protein & Query protein or transcript ID                                   & homologs\\\\\n",
       "\t1157 & dmelanogaster\\_homolog\\_subtype                      & Last common ancestor with Drosophila melanogaster                & homologs\\\\\n",
       "\t1158 & dmelanogaster\\_homolog\\_orthology\\_type               & Drosophila melanogaster homology type                            & homologs\\\\\n",
       "\t1159 & dmelanogaster\\_homolog\\_perc\\_id                      & \\%id. target Drosophila melanogaster gene identical to query gene & homologs\\\\\n",
       "\t1160 & dmelanogaster\\_homolog\\_perc\\_id\\_r1                   & \\%id. query gene identical to target Drosophila melanogaster gene & homologs\\\\\n",
       "\t1161 & dmelanogaster\\_homolog\\_orthology\\_confidence         & Drosophila melanogaster orthology confidence {[}0 low, 1 high{]}     & homologs\\\\\n",
       "\t1300 & amelanoleuca\\_homolog\\_ensembl\\_gene                  & Giant panda gene stable ID                                       & homologs\\\\\n",
       "\t1301 & amelanoleuca\\_homolog\\_associated\\_gene\\_name          & Giant panda gene name                                            & homologs\\\\\n",
       "\t1302 & amelanoleuca\\_homolog\\_ensembl\\_peptide               & Giant panda protein or transcript stable ID                      & homologs\\\\\n",
       "\t1303 & amelanoleuca\\_homolog\\_chromosome                    & Giant panda chromosome/scaffold name                             & homologs\\\\\n",
       "\t1304 & amelanoleuca\\_homolog\\_chrom\\_start                   & Giant panda chromosome/scaffold start (bp)                       & homologs\\\\\n",
       "\t1305 & amelanoleuca\\_homolog\\_chrom\\_end                     & Giant panda chromosome/scaffold end (bp)                         & homologs\\\\\n",
       "\t1306 & amelanoleuca\\_homolog\\_canonical\\_transcript\\_protein  & Query protein or transcript ID                                   & homologs\\\\\n",
       "\t1307 & amelanoleuca\\_homolog\\_subtype                       & Last common ancestor with Giant panda                            & homologs\\\\\n",
       "\t1308 & amelanoleuca\\_homolog\\_orthology\\_type                & Giant panda homology type                                        & homologs\\\\\n",
       "\t1309 & amelanoleuca\\_homolog\\_perc\\_id                       & \\%id. target Giant panda gene identical to query gene             & homologs\\\\\n",
       "\t1310 & amelanoleuca\\_homolog\\_perc\\_id\\_r1                    & \\%id. query gene identical to target Giant panda gene             & homologs\\\\\n",
       "\t1311 & amelanoleuca\\_homolog\\_goc\\_score                     & Giant panda Gene-order conservation score                        & homologs\\\\\n",
       "\t1312 & amelanoleuca\\_homolog\\_orthology\\_confidence          & Giant panda orthology confidence {[}0 low, 1 high{]}                 & homologs\\\\\n",
       "\\end{tabular}\n"
      ],
      "text/markdown": [
       "\n",
       "A data.frame: 25 × 3\n",
       "\n",
       "| <!--/--> | name &lt;chr&gt; | description &lt;chr&gt; | page &lt;chr&gt; |\n",
       "|---|---|---|---|\n",
       "| 1150 | dmelanogaster_homolog_ensembl_gene                 | Drosophila melanogaster gene stable ID                           | homologs |\n",
       "| 1151 | dmelanogaster_homolog_associated_gene_name         | Drosophila melanogaster gene name                                | homologs |\n",
       "| 1152 | dmelanogaster_homolog_ensembl_peptide              | Drosophila melanogaster protein or transcript stable ID          | homologs |\n",
       "| 1153 | dmelanogaster_homolog_chromosome                   | Drosophila melanogaster chromosome/scaffold name                 | homologs |\n",
       "| 1154 | dmelanogaster_homolog_chrom_start                  | Drosophila melanogaster chromosome/scaffold start (bp)           | homologs |\n",
       "| 1155 | dmelanogaster_homolog_chrom_end                    | Drosophila melanogaster chromosome/scaffold end (bp)             | homologs |\n",
       "| 1156 | dmelanogaster_homolog_canonical_transcript_protein | Query protein or transcript ID                                   | homologs |\n",
       "| 1157 | dmelanogaster_homolog_subtype                      | Last common ancestor with Drosophila melanogaster                | homologs |\n",
       "| 1158 | dmelanogaster_homolog_orthology_type               | Drosophila melanogaster homology type                            | homologs |\n",
       "| 1159 | dmelanogaster_homolog_perc_id                      | %id. target Drosophila melanogaster gene identical to query gene | homologs |\n",
       "| 1160 | dmelanogaster_homolog_perc_id_r1                   | %id. query gene identical to target Drosophila melanogaster gene | homologs |\n",
       "| 1161 | dmelanogaster_homolog_orthology_confidence         | Drosophila melanogaster orthology confidence [0 low, 1 high]     | homologs |\n",
       "| 1300 | amelanoleuca_homolog_ensembl_gene                  | Giant panda gene stable ID                                       | homologs |\n",
       "| 1301 | amelanoleuca_homolog_associated_gene_name          | Giant panda gene name                                            | homologs |\n",
       "| 1302 | amelanoleuca_homolog_ensembl_peptide               | Giant panda protein or transcript stable ID                      | homologs |\n",
       "| 1303 | amelanoleuca_homolog_chromosome                    | Giant panda chromosome/scaffold name                             | homologs |\n",
       "| 1304 | amelanoleuca_homolog_chrom_start                   | Giant panda chromosome/scaffold start (bp)                       | homologs |\n",
       "| 1305 | amelanoleuca_homolog_chrom_end                     | Giant panda chromosome/scaffold end (bp)                         | homologs |\n",
       "| 1306 | amelanoleuca_homolog_canonical_transcript_protein  | Query protein or transcript ID                                   | homologs |\n",
       "| 1307 | amelanoleuca_homolog_subtype                       | Last common ancestor with Giant panda                            | homologs |\n",
       "| 1308 | amelanoleuca_homolog_orthology_type                | Giant panda homology type                                        | homologs |\n",
       "| 1309 | amelanoleuca_homolog_perc_id                       | %id. target Giant panda gene identical to query gene             | homologs |\n",
       "| 1310 | amelanoleuca_homolog_perc_id_r1                    | %id. query gene identical to target Giant panda gene             | homologs |\n",
       "| 1311 | amelanoleuca_homolog_goc_score                     | Giant panda Gene-order conservation score                        | homologs |\n",
       "| 1312 | amelanoleuca_homolog_orthology_confidence          | Giant panda orthology confidence [0 low, 1 high]                 | homologs |\n",
       "\n"
      ],
      "text/plain": [
       "     name                                              \n",
       "1150 dmelanogaster_homolog_ensembl_gene                \n",
       "1151 dmelanogaster_homolog_associated_gene_name        \n",
       "1152 dmelanogaster_homolog_ensembl_peptide             \n",
       "1153 dmelanogaster_homolog_chromosome                  \n",
       "1154 dmelanogaster_homolog_chrom_start                 \n",
       "1155 dmelanogaster_homolog_chrom_end                   \n",
       "1156 dmelanogaster_homolog_canonical_transcript_protein\n",
       "1157 dmelanogaster_homolog_subtype                     \n",
       "1158 dmelanogaster_homolog_orthology_type              \n",
       "1159 dmelanogaster_homolog_perc_id                     \n",
       "1160 dmelanogaster_homolog_perc_id_r1                  \n",
       "1161 dmelanogaster_homolog_orthology_confidence        \n",
       "1300 amelanoleuca_homolog_ensembl_gene                 \n",
       "1301 amelanoleuca_homolog_associated_gene_name         \n",
       "1302 amelanoleuca_homolog_ensembl_peptide              \n",
       "1303 amelanoleuca_homolog_chromosome                   \n",
       "1304 amelanoleuca_homolog_chrom_start                  \n",
       "1305 amelanoleuca_homolog_chrom_end                    \n",
       "1306 amelanoleuca_homolog_canonical_transcript_protein \n",
       "1307 amelanoleuca_homolog_subtype                      \n",
       "1308 amelanoleuca_homolog_orthology_type               \n",
       "1309 amelanoleuca_homolog_perc_id                      \n",
       "1310 amelanoleuca_homolog_perc_id_r1                   \n",
       "1311 amelanoleuca_homolog_goc_score                    \n",
       "1312 amelanoleuca_homolog_orthology_confidence         \n",
       "     description                                                      page    \n",
       "1150 Drosophila melanogaster gene stable ID                           homologs\n",
       "1151 Drosophila melanogaster gene name                                homologs\n",
       "1152 Drosophila melanogaster protein or transcript stable ID          homologs\n",
       "1153 Drosophila melanogaster chromosome/scaffold name                 homologs\n",
       "1154 Drosophila melanogaster chromosome/scaffold start (bp)           homologs\n",
       "1155 Drosophila melanogaster chromosome/scaffold end (bp)             homologs\n",
       "1156 Query protein or transcript ID                                   homologs\n",
       "1157 Last common ancestor with Drosophila melanogaster                homologs\n",
       "1158 Drosophila melanogaster homology type                            homologs\n",
       "1159 %id. target Drosophila melanogaster gene identical to query gene homologs\n",
       "1160 %id. query gene identical to target Drosophila melanogaster gene homologs\n",
       "1161 Drosophila melanogaster orthology confidence [0 low, 1 high]     homologs\n",
       "1300 Giant panda gene stable ID                                       homologs\n",
       "1301 Giant panda gene name                                            homologs\n",
       "1302 Giant panda protein or transcript stable ID                      homologs\n",
       "1303 Giant panda chromosome/scaffold name                             homologs\n",
       "1304 Giant panda chromosome/scaffold start (bp)                       homologs\n",
       "1305 Giant panda chromosome/scaffold end (bp)                         homologs\n",
       "1306 Query protein or transcript ID                                   homologs\n",
       "1307 Last common ancestor with Giant panda                            homologs\n",
       "1308 Giant panda homology type                                        homologs\n",
       "1309 %id. target Giant panda gene identical to query gene             homologs\n",
       "1310 %id. query gene identical to target Giant panda gene             homologs\n",
       "1311 Giant panda Gene-order conservation score                        homologs\n",
       "1312 Giant panda orthology confidence [0 low, 1 high]                 homologs"
      ]
     },
     "metadata": {},
     "output_type": "display_data"
    }
   ],
   "source": [
    "attr_df<-listAttributes(human)\n",
    "attr_df[grep(\"melano\",attr_df$name),]"
   ]
  },
  {
   "cell_type": "code",
   "execution_count": null,
   "id": "7f5c669d",
   "metadata": {},
   "outputs": [],
   "source": []
  }
 ],
 "metadata": {
  "kernelspec": {
   "display_name": "R/4.0",
   "language": "R",
   "name": "ir40"
  },
  "language_info": {
   "codemirror_mode": "r",
   "file_extension": ".r",
   "mimetype": "text/x-r-source",
   "name": "R",
   "pygments_lexer": "r",
   "version": "4.0.5"
  },
  "toc": {
   "base_numbering": 1,
   "nav_menu": {},
   "number_sections": true,
   "sideBar": true,
   "skip_h1_title": false,
   "title_cell": "Table of Contents",
   "title_sidebar": "Contents",
   "toc_cell": false,
   "toc_position": {},
   "toc_section_display": true,
   "toc_window_display": false
  }
 },
 "nbformat": 4,
 "nbformat_minor": 5
}
