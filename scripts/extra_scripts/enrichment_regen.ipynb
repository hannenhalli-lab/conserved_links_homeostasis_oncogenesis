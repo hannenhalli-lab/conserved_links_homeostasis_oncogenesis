{
 "cells": [
  {
   "cell_type": "code",
   "execution_count": null,
   "id": "a28d287f",
   "metadata": {},
   "outputs": [],
   "source": [
    "source(\"./enrichment_functions.R\")"
   ]
  },
  {
   "cell_type": "code",
   "execution_count": 2,
   "id": "34126af2",
   "metadata": {},
   "outputs": [],
   "source": [
    "files <-list.files(\"./geo_degs\")\n",
    "regen_files <- files[grep(\"^[a-z].*regen.*\", files)]"
   ]
  },
  {
   "cell_type": "code",
   "execution_count": null,
   "id": "e63edb9c",
   "metadata": {},
   "outputs": [],
   "source": [
    "#regen_HALLMARK <- get_enrichment_data(regen_files, \"HALLMARK\", \"./geo_degs/\")\n",
    "#saveRDS(regen_HALLMARK, \"regen_hallmark.RDS\")\n",
    "#regen_KEGG <- get_enrichment_data(regen_files, \"KEGG\", \"./geo_degs/\")\n",
    "#saveRDS(regen_KEGG, \"regen_kegg.RDS\")\n",
    "#regen_C4 <- get_enrichment_data(regen_files, \"C4\", \"./geo_degs/\")\n",
    "#saveRDS(regen_C4, \"regen_C4.RDS\")\n",
    "regen_GO <- get_enrichment_data(regen_files, \"GO\", \"./geo_degs/\")\n",
    "saveRDS(regen_GO, \"regen_go.RDS\")"
   ]
  },
  {
   "cell_type": "code",
   "execution_count": null,
   "id": "0b5d1e8b",
   "metadata": {},
   "outputs": [],
   "source": []
  }
 ],
 "metadata": {
  "kernelspec": {
   "display_name": "R/4.1",
   "language": "R",
   "name": "ir41"
  },
  "language_info": {
   "codemirror_mode": "r",
   "file_extension": ".r",
   "mimetype": "text/x-r-source",
   "name": "R",
   "pygments_lexer": "r",
   "version": "4.1.3"
  },
  "toc": {
   "base_numbering": 1,
   "nav_menu": {},
   "number_sections": true,
   "sideBar": true,
   "skip_h1_title": false,
   "title_cell": "Table of Contents",
   "title_sidebar": "Contents",
   "toc_cell": false,
   "toc_position": {},
   "toc_section_display": true,
   "toc_window_display": false
  }
 },
 "nbformat": 4,
 "nbformat_minor": 5
}
