{
 "cells": [
  {
   "cell_type": "code",
   "execution_count": null,
   "id": "539f1d87",
   "metadata": {},
   "outputs": [],
   "source": [
    "# args[1] = \"./wound_genes/\"\n",
    "# args[2] = start\n",
    "# args[3] = end\n",
    "\n",
    "args = commandArgs(trailingOnly = TRUE)\n",
    "message(sprintf(\"Hello %s\", args[1L]))\n",
    "\n",
    "library(stats)\n",
    "library(sets)\n",
    "library(data.table)\n",
    "# Background set of genes\n",
    "background_set <- fread(\"background_set.txt\")\n",
    "\n",
    "pathways <- readRDS(\"pathways.rds\")\n",
    "\n",
    "files <-list.files(args[1])\n",
    "files <- files[grep(\"^GSE*\", files)]\n",
    "print(length(wound_files))\n",
    "compute_enrichment <- function(foreground_genes,all_genes,background_genes=NULL,pathways=NULL) {\n",
    "    if (is.null(pathways)) { \n",
    "        pathways <- load_pathways()\n",
    "        pathways <- lapply( pathways, function(pathway_genes) {return(pathway_genes[pathway_genes %in% all_genes])})\n",
    "    }\n",
    "    fisher_enrichment_dt <- data.table(pathway=names(pathways),p_value=-1,odds_ratio=-1)\n",
    "    if (is.null(background_genes)) {\n",
    "        background_genes <- setdiff(all_genes,foreground_genes)\n",
    "        #background_genes <- unique(unlist(pathways))\n",
    "    }\n",
    "\n",
    "    for (pathway in names(pathways)) {\n",
    "        pathway_genes <- pathways[[pathway]]\n",
    "        non_pathway_genes <- setdiff(all_genes,pathway_genes)\n",
    "\n",
    "        num_in_pathway_and_foreground <- intersect(pathway_genes,foreground_genes) %>% length\n",
    "        num_in_pathway_and_not_foreground <- intersect(pathway_genes,background_genes) %>% length\n",
    "        num_not_in_pathway_and_foreground <- intersect(non_pathway_genes,foreground_genes) %>% length\n",
    "        num_not_in_pathway_and_not_foreground <- intersect(non_pathway_genes,background_genes) %>% length\n",
    "        fisher_mat <- matrix(c(num_in_pathway_and_foreground,num_in_pathway_and_not_foreground,\n",
    "                              num_not_in_pathway_and_foreground,num_not_in_pathway_and_not_foreground),\n",
    "                             nrow=2,ncol=2,byrow=T)\n",
    "        \n",
    "        test_res <- fisher.test(fisher_mat,alternative=\"g\")\n",
    "        pathway_ <- pathway\n",
    "        fisher_enrichment_dt[pathway==pathway_,`:=`(p_value=test_res$p.value, odds_ratio=test_res$estimate,\n",
    "        num_p_fg=num_in_pathway_and_foreground,num_p_bg=num_in_pathway_and_not_foreground,\n",
    "        num_not_p_fg=num_not_in_pathway_and_foreground,num_not_p_bg=num_not_in_pathway_and_not_foreground)]\n",
    "    }\n",
    "    fisher_enrichment_dt[,q_value:=p.adjust(p_value)]\n",
    "\n",
    "    return(fisher_enrichment_dt)\n",
    "}\n",
    "get_enrichment_data <- function(current_files, current_pathways, current_dir){\n",
    "    total_enrichment_pathways <- names(pathways[[current_pathways]])\n",
    "    #pathwaysDF <- data.frame(\"pathways\" = total_enrichment_pathways)\n",
    "    for(i in 1:length(current_files)) {\n",
    "        current_file_path <- paste(current_dir, current_files[i], sep=\"\")\n",
    "        new_file_name <- paste(current_dir,current_pathways,\"_enrichment_\",current_files[i], sep=\"\")\n",
    "        \n",
    "        total_genes <- fread(current_file_path, header=FALSE)\n",
    "\n",
    "        colnames(total_genes) <- c(\"genes\")\n",
    "        enrichment_test <- compute_enrichment(foreground_genes = total_genes$genes,\n",
    "                                               all_genes = background_set$gene,\n",
    "                                               pathways = pathways[[current_pathways]])\n",
    "        subset_enrichment_test  <- enrichment_test[,c(\"q_value\")]\n",
    "        rownames(subset_enrichment_test) <-  enrichment_test$pathway\n",
    "\n",
    "        #pathwaysDF <- cbind(pathwaysDF, subset_enrichment_test)\n",
    "        saveRDS(subset_enrichment_test, file = new_file_name)\n",
    "    }\n",
    "    \n",
    "    #all_qvals <- pathwaysDF[,2:length(pathwaysDF)]\n",
    "    #rownames(all_qvals) <- total_enrichment_pathways\n",
    "    #colnames(all_qvals) <- current_files[1:length(all_qvals)]\n",
    "    \n",
    "    #enrichment_heatmap <- pheatmap(as.matrix(log(all_qvals)), show_rownames = F)\n",
    "    #return(list(\"matrix\" = all_qvals, \"heatmap\" = enrichment_heatmap))\n",
    "}\n",
    "\n",
    "get_enrichment_data(files[(args[2]):(end[3])], \"GO\", args[1])"
   ]
  },
  {
   "cell_type": "code",
   "execution_count": null,
   "id": "028689d5",
   "metadata": {},
   "outputs": [],
   "source": [
    "#!/bin/bash\n",
    "module load R/3.6.3\n",
    "Rscript get_go_enrichment.R ./wound_genes/ 1 2"
   ]
  },
  {
   "cell_type": "code",
   "execution_count": 24,
   "id": "eae9317c",
   "metadata": {},
   "outputs": [
    {
     "name": "stdout",
     "output_type": "stream",
     "text": [
      "[1] \"for f in {1..238..14}; do \\necho \\\"$f\\\" \\n((a=$f+13)) \\necho \\\"$a\\\" \\nprintf \\\"#!/bin/bash\\nmodule load R\\nRscript get_go_enrichment.R ./wound_genes/ $f $a\\\" > temp_$f.job \\nsbatch --partition=ccr --mem=10g --cpus-per-task=2 --gres=lscratch:2 --time 4:00:00 temp_$f.job \\ndone\"\n"
     ]
    }
   ],
   "source": [
    "### command = \"for f in {1..14..238}; do \\necho \\\"$f\\\" \\nprintf \\\"#!/bin/bash\\nmodule load R\\nRscript Rscript get_go_enrichment.R ./wound_genes/ $f $f+10 /data/timonaj/Allelic_Imbalance/eRNA_analysis/RPKM_non_coding/\\\" > temp_$f.job \\nsbatch --partition=ccr --mem=300g --cpus-per-task=4 --gres=lscratch:2 --time 4:00:00 temp_$f.job \\ndone\"\n",
    "command = \"for f in {1..238..14}; do \\necho \\\"$f\\\" \\n((a=$f+13)) \\necho \\\"$a\\\" \\nprintf \\\"#!/bin/bash\\nmodule load R\\nRscript get_go_enrichment.R ./wound_genes/ $f $a\\\" > temp_$f.job \\nsbatch --partition=ccr --mem=10g --cpus-per-task=2 --gres=lscratch:2 --time 4:00:00 temp_$f.job \\ndone\"\n",
    "print(command)\n",
    "try(system(command))"
   ]
  },
  {
   "cell_type": "code",
   "execution_count": 27,
   "id": "7ce436b4",
   "metadata": {},
   "outputs": [
    {
     "name": "stdout",
     "output_type": "stream",
     "text": [
      "[1] \"for f in {1..238..14}; do \\necho \\\"$f\\\" \\n((a=$f+13)) \\necho \\\"$a\\\" \\nprintf \\\"#!/bin/bash\\nmodule load R\\nRscript get_C2_enrichment.R ./wound_genes/ $f $a\\\" > wound_c2_$f.job \\nsbatch --partition=ccr --mem=10g --cpus-per-task=2 --gres=lscratch:2 --time 4:00:00 wound_c2_$f.job \\ndone\"\n"
     ]
    }
   ],
   "source": [
    "### command = \"for f in {1..14..238}; do \\necho \\\"$f\\\" \\nprintf \\\"#!/bin/bash\\nmodule load R\\nRscript Rscript get_go_enrichment.R ./wound_genes/ $f $f+10 /data/timonaj/Allelic_Imbalance/eRNA_analysis/RPKM_non_coding/\\\" > temp_$f.job \\nsbatch --partition=ccr --mem=300g --cpus-per-task=4 --gres=lscratch:2 --time 4:00:00 temp_$f.job \\ndone\"\n",
    "command = \"for f in {1..238..14}; do \\necho \\\"$f\\\" \\n((a=$f+13)) \\necho \\\"$a\\\" \\nprintf \\\"#!/bin/bash\\nmodule load R\\nRscript get_C2_enrichment.R ./wound_genes/ $f $a\\\" > wound_c2_$f.job \\nsbatch --partition=ccr --mem=10g --cpus-per-task=2 --gres=lscratch:2 --time 4:00:00 wound_c2_$f.job \\ndone\"\n",
    "print(command)\n",
    "try(system(command))"
   ]
  },
  {
   "cell_type": "code",
   "execution_count": 25,
   "id": "cc42231d",
   "metadata": {},
   "outputs": [
    {
     "name": "stdout",
     "output_type": "stream",
     "text": [
      "[1] \"for f in {1..114..6}; do \\necho \\\"$f\\\" \\n((a=$f+5)) \\necho \\\"$a\\\" \\nprintf \\\"#!/bin/bash\\nmodule load R\\nRscript get_go_enrichment.R ./regen_genes/ $f $a\\\" > regen_$f.job \\nsbatch --partition=ccr --mem=10g --cpus-per-task=2 --gres=lscratch:2 --time 4:00:00 regen_$f.job \\ndone\"\n"
     ]
    }
   ],
   "source": [
    "command = \"for f in {1..114..6}; do \\necho \\\"$f\\\" \\n((a=$f+5)) \\necho \\\"$a\\\" \\nprintf \\\"#!/bin/bash\\nmodule load R\\nRscript get_go_enrichment.R ./regen_genes/ $f $a\\\" > regen_$f.job \\nsbatch --partition=ccr --mem=10g --cpus-per-task=2 --gres=lscratch:2 --time 4:00:00 regen_$f.job \\ndone\"\n",
    "print(command)\n",
    "try(system(command))"
   ]
  },
  {
   "cell_type": "code",
   "execution_count": 28,
   "id": "ff63165e",
   "metadata": {},
   "outputs": [
    {
     "name": "stdout",
     "output_type": "stream",
     "text": [
      "[1] \"for f in {1..114..6}; do \\necho \\\"$f\\\" \\n((a=$f+5)) \\necho \\\"$a\\\" \\nprintf \\\"#!/bin/bash\\nmodule load R\\nRscript get_C2_enrichment.R ./regen_genes/ $f $a\\\" > regen_c2_$f.job \\nsbatch --partition=ccr --mem=10g --cpus-per-task=2 --gres=lscratch:2 --time 4:00:00 regen_c2_$f.job \\ndone\"\n"
     ]
    }
   ],
   "source": [
    "command = \"for f in {1..114..6}; do \\necho \\\"$f\\\" \\n((a=$f+5)) \\necho \\\"$a\\\" \\nprintf \\\"#!/bin/bash\\nmodule load R\\nRscript get_C2_enrichment.R ./regen_genes/ $f $a\\\" > regen_c2_$f.job \\nsbatch --partition=ccr --mem=10g --cpus-per-task=2 --gres=lscratch:2 --time 4:00:00 regen_c2_$f.job \\ndone\"\n",
    "print(command)\n",
    "try(system(command))"
   ]
  },
  {
   "cell_type": "code",
   "execution_count": 26,
   "id": "c3d09ad6",
   "metadata": {},
   "outputs": [
    {
     "name": "stdout",
     "output_type": "stream",
     "text": [
      "[1] \"for f in {1..160..10}; do \\necho \\\"$f\\\" \\n((a=$f+9)) \\necho \\\"$a\\\" \\nprintf \\\"#!/bin/bash\\nmodule load R\\nRscript get_go_enrichment.R ./stress_genes/ $f $a\\\" > stress_$f.job \\nsbatch --partition=ccr --mem=10g --cpus-per-task=2 --gres=lscratch:2 --time 4:00:00 stress_$f.job \\ndone\"\n"
     ]
    }
   ],
   "source": [
    "command = \"for f in {1..160..10}; do \\necho \\\"$f\\\" \\n((a=$f+9)) \\necho \\\"$a\\\" \\nprintf \\\"#!/bin/bash\\nmodule load R\\nRscript get_go_enrichment.R ./stress_genes/ $f $a\\\" > stress_$f.job \\nsbatch --partition=ccr --mem=10g --cpus-per-task=2 --gres=lscratch:2 --time 4:00:00 stress_$f.job \\ndone\"\n",
    "print(command)\n",
    "try(system(command))"
   ]
  },
  {
   "cell_type": "code",
   "execution_count": 29,
   "id": "111c6501",
   "metadata": {},
   "outputs": [
    {
     "name": "stdout",
     "output_type": "stream",
     "text": [
      "[1] \"for f in {1..160..10}; do \\necho \\\"$f\\\" \\n((a=$f+9)) \\necho \\\"$a\\\" \\nprintf \\\"#!/bin/bash\\nmodule load R\\nRscript get_C2_enrichment.R ./stress_genes/ $f $a\\\" > stress_c2_$f.job \\nsbatch --partition=ccr --mem=10g --cpus-per-task=2 --gres=lscratch:2 --time 4:00:00 stress_c2_$f.job \\ndone\"\n"
     ]
    }
   ],
   "source": [
    "command = \"for f in {1..160..10}; do \\necho \\\"$f\\\" \\n((a=$f+9)) \\necho \\\"$a\\\" \\nprintf \\\"#!/bin/bash\\nmodule load R\\nRscript get_C2_enrichment.R ./stress_genes/ $f $a\\\" > stress_c2_$f.job \\nsbatch --partition=ccr --mem=10g --cpus-per-task=2 --gres=lscratch:2 --time 4:00:00 stress_c2_$f.job \\ndone\"\n",
    "print(command)\n",
    "try(system(command))"
   ]
  },
  {
   "cell_type": "code",
   "execution_count": null,
   "id": "bc407323",
   "metadata": {},
   "outputs": [],
   "source": []
  }
 ],
 "metadata": {
  "kernelspec": {
   "display_name": "R/4.0",
   "language": "R",
   "name": "ir40"
  },
  "language_info": {
   "codemirror_mode": "r",
   "file_extension": ".r",
   "mimetype": "text/x-r-source",
   "name": "R",
   "pygments_lexer": "r",
   "version": "4.0.5"
  },
  "toc": {
   "base_numbering": 1,
   "nav_menu": {},
   "number_sections": true,
   "sideBar": true,
   "skip_h1_title": false,
   "title_cell": "Table of Contents",
   "title_sidebar": "Contents",
   "toc_cell": false,
   "toc_position": {},
   "toc_section_display": true,
   "toc_window_display": false
  }
 },
 "nbformat": 4,
 "nbformat_minor": 5
}
